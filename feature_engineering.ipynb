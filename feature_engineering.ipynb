{
 "cells": [
  {
   "cell_type": "code",
   "execution_count": 1,
   "id": "04aa8301",
   "metadata": {
    "ExecuteTime": {
     "end_time": "2022-07-22T15:10:52.102254Z",
     "start_time": "2022-07-22T15:10:50.934733Z"
    }
   },
   "outputs": [],
   "source": [
    "import pandas as pd\n",
    "import numpy as np\n",
    "import seaborn as sns\n",
    "import matplotlib.pyplot as plt\n",
    "\n",
    "import pydataset\n",
    "\n",
    "from sklearn.feature_selection import f_regression, SelectKBest, RFE\n",
    "from sklearn.linear_model import LinearRegression\n",
    "from sklearn.model_selection import train_test_split"
   ]
  },
  {
   "cell_type": "code",
   "execution_count": 2,
   "id": "a7ddac21",
   "metadata": {
    "ExecuteTime": {
     "end_time": "2022-07-22T15:10:52.111964Z",
     "start_time": "2022-07-22T15:10:52.103236Z"
    }
   },
   "outputs": [
    {
     "data": {
      "text/html": [
       "<div>\n",
       "<style scoped>\n",
       "    .dataframe tbody tr th:only-of-type {\n",
       "        vertical-align: middle;\n",
       "    }\n",
       "\n",
       "    .dataframe tbody tr th {\n",
       "        vertical-align: top;\n",
       "    }\n",
       "\n",
       "    .dataframe thead th {\n",
       "        text-align: right;\n",
       "    }\n",
       "</style>\n",
       "<table border=\"1\" class=\"dataframe\">\n",
       "  <thead>\n",
       "    <tr style=\"text-align: right;\">\n",
       "      <th></th>\n",
       "      <th>total_bill</th>\n",
       "      <th>tip</th>\n",
       "      <th>sex</th>\n",
       "      <th>smoker</th>\n",
       "      <th>day</th>\n",
       "      <th>time</th>\n",
       "      <th>size</th>\n",
       "    </tr>\n",
       "  </thead>\n",
       "  <tbody>\n",
       "    <tr>\n",
       "      <th>1</th>\n",
       "      <td>16.99</td>\n",
       "      <td>1.01</td>\n",
       "      <td>Female</td>\n",
       "      <td>No</td>\n",
       "      <td>Sun</td>\n",
       "      <td>Dinner</td>\n",
       "      <td>2</td>\n",
       "    </tr>\n",
       "    <tr>\n",
       "      <th>2</th>\n",
       "      <td>10.34</td>\n",
       "      <td>1.66</td>\n",
       "      <td>Male</td>\n",
       "      <td>No</td>\n",
       "      <td>Sun</td>\n",
       "      <td>Dinner</td>\n",
       "      <td>3</td>\n",
       "    </tr>\n",
       "    <tr>\n",
       "      <th>3</th>\n",
       "      <td>21.01</td>\n",
       "      <td>3.50</td>\n",
       "      <td>Male</td>\n",
       "      <td>No</td>\n",
       "      <td>Sun</td>\n",
       "      <td>Dinner</td>\n",
       "      <td>3</td>\n",
       "    </tr>\n",
       "    <tr>\n",
       "      <th>4</th>\n",
       "      <td>23.68</td>\n",
       "      <td>3.31</td>\n",
       "      <td>Male</td>\n",
       "      <td>No</td>\n",
       "      <td>Sun</td>\n",
       "      <td>Dinner</td>\n",
       "      <td>2</td>\n",
       "    </tr>\n",
       "    <tr>\n",
       "      <th>5</th>\n",
       "      <td>24.59</td>\n",
       "      <td>3.61</td>\n",
       "      <td>Female</td>\n",
       "      <td>No</td>\n",
       "      <td>Sun</td>\n",
       "      <td>Dinner</td>\n",
       "      <td>4</td>\n",
       "    </tr>\n",
       "  </tbody>\n",
       "</table>\n",
       "</div>"
      ],
      "text/plain": [
       "   total_bill   tip     sex smoker  day    time  size\n",
       "1       16.99  1.01  Female     No  Sun  Dinner     2\n",
       "2       10.34  1.66    Male     No  Sun  Dinner     3\n",
       "3       21.01  3.50    Male     No  Sun  Dinner     3\n",
       "4       23.68  3.31    Male     No  Sun  Dinner     2\n",
       "5       24.59  3.61  Female     No  Sun  Dinner     4"
      ]
     },
     "execution_count": 2,
     "metadata": {},
     "output_type": "execute_result"
    }
   ],
   "source": [
    "tips=pydataset.data('tips')\n",
    "tips.head()"
   ]
  },
  {
   "cell_type": "markdown",
   "id": "8e30b428",
   "metadata": {},
   "source": [
    "- Create a column named price_per_person. This should be the total bill divided by the party size.\n",
    "- Before using any of the methods discussed in the lesson, which features do you think would be most important for predicting the tip amount?"
   ]
  },
  {
   "cell_type": "code",
   "execution_count": 3,
   "id": "c6d7c44f",
   "metadata": {
    "ExecuteTime": {
     "end_time": "2022-07-22T15:10:52.120464Z",
     "start_time": "2022-07-22T15:10:52.114512Z"
    }
   },
   "outputs": [
    {
     "data": {
      "text/html": [
       "<div>\n",
       "<style scoped>\n",
       "    .dataframe tbody tr th:only-of-type {\n",
       "        vertical-align: middle;\n",
       "    }\n",
       "\n",
       "    .dataframe tbody tr th {\n",
       "        vertical-align: top;\n",
       "    }\n",
       "\n",
       "    .dataframe thead th {\n",
       "        text-align: right;\n",
       "    }\n",
       "</style>\n",
       "<table border=\"1\" class=\"dataframe\">\n",
       "  <thead>\n",
       "    <tr style=\"text-align: right;\">\n",
       "      <th></th>\n",
       "      <th>total_bill</th>\n",
       "      <th>tip</th>\n",
       "      <th>sex</th>\n",
       "      <th>smoker</th>\n",
       "      <th>day</th>\n",
       "      <th>time</th>\n",
       "      <th>size</th>\n",
       "      <th>ppp</th>\n",
       "      <th>tip_rate</th>\n",
       "    </tr>\n",
       "  </thead>\n",
       "  <tbody>\n",
       "    <tr>\n",
       "      <th>1</th>\n",
       "      <td>16.99</td>\n",
       "      <td>1.01</td>\n",
       "      <td>Female</td>\n",
       "      <td>No</td>\n",
       "      <td>Sun</td>\n",
       "      <td>Dinner</td>\n",
       "      <td>2</td>\n",
       "      <td>0.009947</td>\n",
       "      <td>0.059447</td>\n",
       "    </tr>\n",
       "    <tr>\n",
       "      <th>2</th>\n",
       "      <td>10.34</td>\n",
       "      <td>1.66</td>\n",
       "      <td>Male</td>\n",
       "      <td>No</td>\n",
       "      <td>Sun</td>\n",
       "      <td>Dinner</td>\n",
       "      <td>3</td>\n",
       "      <td>0.006054</td>\n",
       "      <td>0.160542</td>\n",
       "    </tr>\n",
       "    <tr>\n",
       "      <th>3</th>\n",
       "      <td>21.01</td>\n",
       "      <td>3.50</td>\n",
       "      <td>Male</td>\n",
       "      <td>No</td>\n",
       "      <td>Sun</td>\n",
       "      <td>Dinner</td>\n",
       "      <td>3</td>\n",
       "      <td>0.012301</td>\n",
       "      <td>0.166587</td>\n",
       "    </tr>\n",
       "    <tr>\n",
       "      <th>4</th>\n",
       "      <td>23.68</td>\n",
       "      <td>3.31</td>\n",
       "      <td>Male</td>\n",
       "      <td>No</td>\n",
       "      <td>Sun</td>\n",
       "      <td>Dinner</td>\n",
       "      <td>2</td>\n",
       "      <td>0.013864</td>\n",
       "      <td>0.139780</td>\n",
       "    </tr>\n",
       "    <tr>\n",
       "      <th>5</th>\n",
       "      <td>24.59</td>\n",
       "      <td>3.61</td>\n",
       "      <td>Female</td>\n",
       "      <td>No</td>\n",
       "      <td>Sun</td>\n",
       "      <td>Dinner</td>\n",
       "      <td>4</td>\n",
       "      <td>0.014397</td>\n",
       "      <td>0.146808</td>\n",
       "    </tr>\n",
       "  </tbody>\n",
       "</table>\n",
       "</div>"
      ],
      "text/plain": [
       "   total_bill   tip     sex smoker  day    time  size       ppp  tip_rate\n",
       "1       16.99  1.01  Female     No  Sun  Dinner     2  0.009947  0.059447\n",
       "2       10.34  1.66    Male     No  Sun  Dinner     3  0.006054  0.160542\n",
       "3       21.01  3.50    Male     No  Sun  Dinner     3  0.012301  0.166587\n",
       "4       23.68  3.31    Male     No  Sun  Dinner     2  0.013864  0.139780\n",
       "5       24.59  3.61  Female     No  Sun  Dinner     4  0.014397  0.146808"
      ]
     },
     "execution_count": 3,
     "metadata": {},
     "output_type": "execute_result"
    }
   ],
   "source": [
    "tips['ppp'] = tips.total_bill/tips.size\n",
    "tips['tip_rate'] = tips.tip/tips.total_bill\n",
    "tips.head()"
   ]
  },
  {
   "cell_type": "markdown",
   "id": "f7972461",
   "metadata": {},
   "source": [
    "- Use select k best to select the top 2 features for predicting tip amount. What are they?\n",
    "- Use recursive feature elimination to select the top 2 features for tip amount. What are they?"
   ]
  },
  {
   "cell_type": "code",
   "execution_count": 4,
   "id": "13abe110",
   "metadata": {
    "ExecuteTime": {
     "end_time": "2022-07-22T15:10:52.124322Z",
     "start_time": "2022-07-22T15:10:52.121397Z"
    }
   },
   "outputs": [],
   "source": [
    "X = tips[['size', 'total_bill','ppp']]\n",
    "y = tips.tip"
   ]
  },
  {
   "cell_type": "code",
   "execution_count": 5,
   "id": "84363383",
   "metadata": {
    "ExecuteTime": {
     "end_time": "2022-07-22T15:10:52.128895Z",
     "start_time": "2022-07-22T15:10:52.125105Z"
    }
   },
   "outputs": [
    {
     "name": "stdout",
     "output_type": "stream",
     "text": [
      "Top 2 features per K-best:\n"
     ]
    },
    {
     "data": {
      "text/plain": [
       "Index(['total_bill', 'ppp'], dtype='object')"
      ]
     },
     "execution_count": 5,
     "metadata": {},
     "output_type": "execute_result"
    }
   ],
   "source": [
    "kbest=SelectKBest(f_regression, k=2)\n",
    "kbest.fit(X,y)\n",
    "print('Top 2 features per K-best:')\n",
    "X.columns[kbest.get_support()]"
   ]
  },
  {
   "cell_type": "markdown",
   "id": "d7f61b95",
   "metadata": {},
   "source": [
    "#### Why do you think select k best and recursive feature elimination might give different answers for the top features? Does this change as you change the number of features your are selecting?\n",
    "- kbest doesn't take into account how features interact\n",
    "- Yes as the number of features will change the rate of selection"
   ]
  },
  {
   "cell_type": "markdown",
   "id": "6a3926fc",
   "metadata": {},
   "source": [
    "#### Write a function named `select_kbest` that takes in the predictors (X), the target (y), and the number of features to select (k) and returns the names of the top k selected features based on the SelectKBest class. Test your function with the tips dataset. You should see the same results as when you did the process manually.\n"
   ]
  },
  {
   "cell_type": "code",
   "execution_count": 6,
   "id": "a4a6e103",
   "metadata": {
    "ExecuteTime": {
     "end_time": "2022-07-22T15:10:52.131481Z",
     "start_time": "2022-07-22T15:10:52.129766Z"
    }
   },
   "outputs": [],
   "source": [
    "def select_kbest(X, y , k):\n",
    "    kbest = SelectKBest(k=k)\n",
    "    kbest.fit(X, y)\n",
    "    mask = kbest.get_support()\n",
    "    return X.columns[mask]"
   ]
  },
  {
   "cell_type": "code",
   "execution_count": 7,
   "id": "7ca6a4ca",
   "metadata": {
    "ExecuteTime": {
     "end_time": "2022-07-22T15:10:52.139622Z",
     "start_time": "2022-07-22T15:10:52.132353Z"
    }
   },
   "outputs": [
    {
     "data": {
      "text/plain": [
       "Index(['total_bill', 'ppp'], dtype='object')"
      ]
     },
     "execution_count": 7,
     "metadata": {},
     "output_type": "execute_result"
    }
   ],
   "source": [
    "select_kbest(tips[['total_bill', 'ppp','size']], tips.tip, 2)"
   ]
  },
  {
   "cell_type": "markdown",
   "id": "a9e5b3b0",
   "metadata": {},
   "source": [
    "#### Write a function named `rfe` that takes in the predictors, the target, and the number of features to select. It should return the top k features based on the RFE class. Test your function with the tips dataset. You should see the same results as when you did the process manually."
   ]
  },
  {
   "cell_type": "code",
   "execution_count": 8,
   "id": "b24e21c6",
   "metadata": {
    "ExecuteTime": {
     "end_time": "2022-07-22T15:10:52.143614Z",
     "start_time": "2022-07-22T15:10:52.140537Z"
    }
   },
   "outputs": [],
   "source": [
    "def rfe( X, y ,k, model=LinearRegression()):\n",
    "    rfe = RFE(model, n_features_to_select = k)\n",
    "    rfe.fit(X, y)\n",
    "    mask = rfe.get_support()\n",
    "    return X.columns[mask]"
   ]
  },
  {
   "cell_type": "code",
   "execution_count": 9,
   "id": "f7e50128",
   "metadata": {
    "ExecuteTime": {
     "end_time": "2022-07-22T15:10:52.153748Z",
     "start_time": "2022-07-22T15:10:52.147911Z"
    }
   },
   "outputs": [
    {
     "data": {
      "text/plain": [
       "Index(['total_bill', 'size'], dtype='object')"
      ]
     },
     "execution_count": 9,
     "metadata": {},
     "output_type": "execute_result"
    }
   ],
   "source": [
    "rfe(tips[['total_bill', 'ppp','size']], tips.tip, 2)"
   ]
  },
  {
   "cell_type": "markdown",
   "id": "20f47d7e",
   "metadata": {},
   "source": [
    "#### Load the swiss dataset and use all the other features to predict Fertility. Find the top 3 features using both select k best and recursive feature elimination (use the functions you just built to help you out)."
   ]
  },
  {
   "cell_type": "code",
   "execution_count": 10,
   "id": "d00349bb",
   "metadata": {
    "ExecuteTime": {
     "end_time": "2022-07-22T15:10:52.162211Z",
     "start_time": "2022-07-22T15:10:52.154601Z"
    }
   },
   "outputs": [],
   "source": [
    "from pydataset import data\n",
    "from wrangle import split_data\n",
    "swiss = data('swiss')"
   ]
  },
  {
   "cell_type": "code",
   "execution_count": 11,
   "id": "1325a093",
   "metadata": {
    "ExecuteTime": {
     "end_time": "2022-07-22T15:10:52.167047Z",
     "start_time": "2022-07-22T15:10:52.163023Z"
    }
   },
   "outputs": [
    {
     "name": "stdout",
     "output_type": "stream",
     "text": [
      "Data split as follows: Train 56.00%, Validate 24.00%, Test 20.00%\n"
     ]
    }
   ],
   "source": [
    "train, validate, test = split_data(swiss)"
   ]
  },
  {
   "cell_type": "code",
   "execution_count": 12,
   "id": "7607f1df",
   "metadata": {
    "ExecuteTime": {
     "end_time": "2022-07-22T15:10:52.170101Z",
     "start_time": "2022-07-22T15:10:52.167915Z"
    }
   },
   "outputs": [],
   "source": [
    "train = train.reset_index()"
   ]
  },
  {
   "cell_type": "code",
   "execution_count": 13,
   "id": "f447c654",
   "metadata": {
    "ExecuteTime": {
     "end_time": "2022-07-22T15:10:52.173670Z",
     "start_time": "2022-07-22T15:10:52.170986Z"
    }
   },
   "outputs": [
    {
     "data": {
      "text/plain": [
       "Index(['index', 'Fertility', 'Agriculture', 'Examination', 'Education',\n",
       "       'Catholic', 'Infant.Mortality'],\n",
       "      dtype='object')"
      ]
     },
     "execution_count": 13,
     "metadata": {},
     "output_type": "execute_result"
    }
   ],
   "source": [
    "train.columns"
   ]
  },
  {
   "cell_type": "code",
   "execution_count": 14,
   "id": "d5e67238",
   "metadata": {
    "ExecuteTime": {
     "end_time": "2022-07-22T15:10:52.176751Z",
     "start_time": "2022-07-22T15:10:52.174517Z"
    }
   },
   "outputs": [],
   "source": [
    "# Scale the data\n",
    "from sklearn.preprocessing import MinMaxScaler\n",
    "scaler = MinMaxScaler()"
   ]
  },
  {
   "cell_type": "code",
   "execution_count": 15,
   "id": "6bffcf1b",
   "metadata": {
    "ExecuteTime": {
     "end_time": "2022-07-22T15:10:52.183472Z",
     "start_time": "2022-07-22T15:10:52.177870Z"
    }
   },
   "outputs": [],
   "source": [
    "scaled_data = scaler.fit_transform(train[['Agriculture', 'Examination', 'Education', 'Catholic',\n",
    "       'Infant.Mortality']])\n",
    "scaled_data_df = pd.DataFrame(data = scaled_data, columns = ['Agriculture_scaled', 'Examination_scaled', 'Education_scaled', 'Catholic_scaled',\n",
    "       'Infant.Mortality_scaled'])"
   ]
  },
  {
   "cell_type": "code",
   "execution_count": 16,
   "id": "020e8515",
   "metadata": {
    "ExecuteTime": {
     "end_time": "2022-07-22T15:10:52.190341Z",
     "start_time": "2022-07-22T15:10:52.185495Z"
    }
   },
   "outputs": [],
   "source": [
    "train = pd.concat([train, scaled_data_df], axis = 1)"
   ]
  },
  {
   "cell_type": "code",
   "execution_count": 17,
   "id": "79bb3cb2",
   "metadata": {
    "ExecuteTime": {
     "end_time": "2022-07-22T15:10:52.195376Z",
     "start_time": "2022-07-22T15:10:52.192204Z"
    }
   },
   "outputs": [],
   "source": [
    "X = train[['Agriculture_scaled', 'Examination_scaled', 'Education_scaled', 'Catholic_scaled',\n",
    "       'Infant.Mortality_scaled']]\n",
    "y = train.Fertility"
   ]
  },
  {
   "cell_type": "code",
   "execution_count": 18,
   "id": "231cbe35",
   "metadata": {
    "ExecuteTime": {
     "end_time": "2022-07-22T15:10:52.200094Z",
     "start_time": "2022-07-22T15:10:52.196207Z"
    }
   },
   "outputs": [
    {
     "data": {
      "text/html": [
       "<div>\n",
       "<style scoped>\n",
       "    .dataframe tbody tr th:only-of-type {\n",
       "        vertical-align: middle;\n",
       "    }\n",
       "\n",
       "    .dataframe tbody tr th {\n",
       "        vertical-align: top;\n",
       "    }\n",
       "\n",
       "    .dataframe thead th {\n",
       "        text-align: right;\n",
       "    }\n",
       "</style>\n",
       "<table border=\"1\" class=\"dataframe\">\n",
       "  <thead>\n",
       "    <tr style=\"text-align: right;\">\n",
       "      <th></th>\n",
       "      <th>Agriculture_scaled</th>\n",
       "      <th>Examination_scaled</th>\n",
       "      <th>Education_scaled</th>\n",
       "      <th>Catholic_scaled</th>\n",
       "      <th>Infant.Mortality_scaled</th>\n",
       "    </tr>\n",
       "  </thead>\n",
       "  <tbody>\n",
       "    <tr>\n",
       "      <th>0</th>\n",
       "      <td>0.647561</td>\n",
       "      <td>0.40625</td>\n",
       "      <td>0.290323</td>\n",
       "      <td>0.054508</td>\n",
       "      <td>0.122449</td>\n",
       "    </tr>\n",
       "    <tr>\n",
       "      <th>1</th>\n",
       "      <td>0.796341</td>\n",
       "      <td>0.50000</td>\n",
       "      <td>0.258065</td>\n",
       "      <td>0.004508</td>\n",
       "      <td>0.500000</td>\n",
       "    </tr>\n",
       "    <tr>\n",
       "      <th>2</th>\n",
       "      <td>0.526829</td>\n",
       "      <td>0.59375</td>\n",
       "      <td>0.354839</td>\n",
       "      <td>0.130533</td>\n",
       "      <td>0.163265</td>\n",
       "    </tr>\n",
       "    <tr>\n",
       "      <th>3</th>\n",
       "      <td>0.953659</td>\n",
       "      <td>0.00000</td>\n",
       "      <td>0.032258</td>\n",
       "      <td>0.997029</td>\n",
       "      <td>0.000000</td>\n",
       "    </tr>\n",
       "    <tr>\n",
       "      <th>4</th>\n",
       "      <td>0.509756</td>\n",
       "      <td>0.37500</td>\n",
       "      <td>0.225806</td>\n",
       "      <td>0.037910</td>\n",
       "      <td>0.755102</td>\n",
       "    </tr>\n",
       "  </tbody>\n",
       "</table>\n",
       "</div>"
      ],
      "text/plain": [
       "   Agriculture_scaled  Examination_scaled  Education_scaled  Catholic_scaled  \\\n",
       "0            0.647561             0.40625          0.290323         0.054508   \n",
       "1            0.796341             0.50000          0.258065         0.004508   \n",
       "2            0.526829             0.59375          0.354839         0.130533   \n",
       "3            0.953659             0.00000          0.032258         0.997029   \n",
       "4            0.509756             0.37500          0.225806         0.037910   \n",
       "\n",
       "   Infant.Mortality_scaled  \n",
       "0                 0.122449  \n",
       "1                 0.500000  \n",
       "2                 0.163265  \n",
       "3                 0.000000  \n",
       "4                 0.755102  "
      ]
     },
     "execution_count": 18,
     "metadata": {},
     "output_type": "execute_result"
    }
   ],
   "source": [
    "X.head()"
   ]
  },
  {
   "cell_type": "code",
   "execution_count": 19,
   "id": "a467513a",
   "metadata": {
    "ExecuteTime": {
     "end_time": "2022-07-22T15:10:52.207866Z",
     "start_time": "2022-07-22T15:10:52.201060Z"
    }
   },
   "outputs": [
    {
     "data": {
      "text/plain": [
       "Index(['Education_scaled', 'Catholic_scaled', 'Infant.Mortality_scaled'], dtype='object')"
      ]
     },
     "execution_count": 19,
     "metadata": {},
     "output_type": "execute_result"
    }
   ],
   "source": [
    "select_kbest(X, y, 3)"
   ]
  },
  {
   "cell_type": "code",
   "execution_count": 20,
   "id": "193a65e3",
   "metadata": {
    "ExecuteTime": {
     "end_time": "2022-07-22T15:10:52.214513Z",
     "start_time": "2022-07-22T15:10:52.209806Z"
    }
   },
   "outputs": [
    {
     "data": {
      "text/plain": [
       "Index(['Agriculture_scaled', 'Examination_scaled', 'Infant.Mortality_scaled'], dtype='object')"
      ]
     },
     "execution_count": 20,
     "metadata": {},
     "output_type": "execute_result"
    }
   ],
   "source": [
    "rfe(X,y,3)"
   ]
  },
  {
   "cell_type": "markdown",
   "id": "0bb4c49c",
   "metadata": {},
   "source": [
    "### Validating against non-scaled items"
   ]
  },
  {
   "cell_type": "code",
   "execution_count": 22,
   "id": "d0de234f",
   "metadata": {
    "ExecuteTime": {
     "end_time": "2022-07-22T15:12:19.988859Z",
     "start_time": "2022-07-22T15:12:19.917329Z"
    }
   },
   "outputs": [
    {
     "data": {
      "text/plain": [
       "Index(['Education', 'Catholic', 'Infant.Mortality'], dtype='object')"
      ]
     },
     "execution_count": 22,
     "metadata": {},
     "output_type": "execute_result"
    }
   ],
   "source": [
    "X = train[['Agriculture', 'Examination', 'Education', 'Catholic',\n",
    "       'Infant.Mortality']]\n",
    "select_kbest(X, y, 3)"
   ]
  },
  {
   "cell_type": "code",
   "execution_count": 23,
   "id": "c053c5a4",
   "metadata": {
    "ExecuteTime": {
     "end_time": "2022-07-22T15:12:44.013588Z",
     "start_time": "2022-07-22T15:12:43.921228Z"
    }
   },
   "outputs": [
    {
     "data": {
      "text/plain": [
       "Index(['Agriculture', 'Examination', 'Infant.Mortality'], dtype='object')"
      ]
     },
     "execution_count": 23,
     "metadata": {},
     "output_type": "execute_result"
    }
   ],
   "source": [
    "rfe(X,y,3)"
   ]
  },
  {
   "cell_type": "markdown",
   "id": "4f00a3b1",
   "metadata": {},
   "source": [
    "### Takeaway:\n",
    "1. Same results scaled as non-scaled\n",
    "2. matplotlib needed for encoding"
   ]
  },
  {
   "cell_type": "code",
   "execution_count": null,
   "id": "f09ccbc9",
   "metadata": {},
   "outputs": [],
   "source": []
  }
 ],
 "metadata": {
  "kernelspec": {
   "display_name": "Python 3 (ipykernel)",
   "language": "python",
   "name": "python3"
  },
  "language_info": {
   "codemirror_mode": {
    "name": "ipython",
    "version": 3
   },
   "file_extension": ".py",
   "mimetype": "text/x-python",
   "name": "python",
   "nbconvert_exporter": "python",
   "pygments_lexer": "ipython3",
   "version": "3.9.13"
  }
 },
 "nbformat": 4,
 "nbformat_minor": 5
}
