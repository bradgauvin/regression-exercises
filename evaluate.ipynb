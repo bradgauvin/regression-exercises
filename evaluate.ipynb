{
 "cells": [
  {
   "cell_type": "markdown",
   "id": "6a35b336",
   "metadata": {},
   "source": [
    "\n",
    "1. Load your zillow dataset.\n",
    "\n",
    "2. Fit a linear regression model (ordinary least squares) and compute yhat, predictions of taxvaluedollarcnt using only calfulatedfinishedsqft.\n",
    "\n",
    " - Here is some sample code to get you started:\n",
    "\n",
    "\n",
    " - Modify and add to the code above as necessary for it to work with the zillow dataset.\n",
    "\n",
    "3. Plot the residuals for the linear regression model that you made.\n",
    "\n",
    "4. Calculate the sum of squared errors, explained sum of squares, total sum of squares, mean squared error, and root mean squared error for your model.\n",
    "\n",
    "5. Calculate the sum of squared errors, mean squared error, and root mean squared error for the baseline model (i.e. a model that always predicts the average taxvaluedollarcnt amount).\n",
    "\n",
    "6. Write python code that compares the sum of squared errors for your model against the sum of squared errors for the baseline model and outputs whether or not your model performs better than the baseline model.\n",
    "\n",
    "7. What is the amount of variance explained in your model?\n",
    "\n",
    "8. Is your model better than the baseline model?\n",
    "\n",
    "9. Create a file named evaluate.py that contains the following functions.\n",
    "\n",
    "- `plot_residuals(y, yhat)`: creates a residual plot\n",
    "- `regression_errors(y, yhat)`: returns the following values:\n",
    "    - sum of squared errors (SSE)\n",
    "    - explained sum of squares (ESS)\n",
    "    - total sum of squares (TSS)\n",
    "    - mean squared error (MSE)\n",
    "    - root mean squared error (RMSE)\n",
    "- `baseline_mean_errors(y)`: computes the SSE, MSE, and RMSE for the baseline model\n",
    "- `better_than_baseline(y, yhat)`: returns true if your model performs better than the baseline, otherwise false"
   ]
  },
  {
   "cell_type": "code",
   "execution_count": 1,
   "id": "f0c468a4",
   "metadata": {
    "ExecuteTime": {
     "end_time": "2022-07-20T21:45:52.871968Z",
     "start_time": "2022-07-20T21:45:51.305285Z"
    }
   },
   "outputs": [],
   "source": [
    "import pandas as pd\n",
    "import numpy as np\n",
    "import matplotlib.pyplot as plt\n",
    "from scipy import stats\n",
    "from sklearn.metrics import mean_squared_error, r2_score\n",
    "from sklearn.model_selection import train_test_split\n",
    "\n",
    "from sklearn.linear_model import LinearRegression\n",
    "from sklearn.feature_selection import f_regression \n",
    "from math import sqrt\n",
    "import seaborn as sns\n",
    "import wrangle\n",
    "import warnings\n",
    "warnings.filterwarnings('ignore')"
   ]
  },
  {
   "cell_type": "code",
   "execution_count": 2,
   "id": "ec7d989d",
   "metadata": {
    "ExecuteTime": {
     "end_time": "2022-07-20T21:45:53.051012Z",
     "start_time": "2022-07-20T21:45:52.872998Z"
    }
   },
   "outputs": [
    {
     "name": "stdout",
     "output_type": "stream",
     "text": [
      "Using cached csv\n"
     ]
    }
   ],
   "source": [
    "#. 1. Load Zillow dataset\n",
    "df =wrangle.wrangle_zillow()"
   ]
  },
  {
   "cell_type": "code",
   "execution_count": 3,
   "id": "13d80651",
   "metadata": {
    "ExecuteTime": {
     "end_time": "2022-07-20T21:45:53.055002Z",
     "start_time": "2022-07-20T21:45:53.051814Z"
    }
   },
   "outputs": [
    {
     "data": {
      "text/plain": [
       "Index(['bedrooms', 'bathrooms', 'square_feet', 'garage', 'pool', 'lot_size',\n",
       "       'zip', 'year_built', 'tax_value', 'tax_amount', 'fed_code', 'age'],\n",
       "      dtype='object')"
      ]
     },
     "execution_count": 3,
     "metadata": {},
     "output_type": "execute_result"
    }
   ],
   "source": [
    "df.columns"
   ]
  },
  {
   "cell_type": "code",
   "execution_count": 4,
   "id": "610ca29d",
   "metadata": {
    "ExecuteTime": {
     "end_time": "2022-07-20T21:45:53.059939Z",
     "start_time": "2022-07-20T21:45:53.056777Z"
    }
   },
   "outputs": [
    {
     "data": {
      "text/plain": [
       "parcel\n",
       "14297519    1023282\n",
       "17052889     464000\n",
       "14186244     564778\n",
       "12177905     145143\n",
       "12095076     773303\n",
       "Name: tax_value, dtype: int64"
      ]
     },
     "execution_count": 4,
     "metadata": {},
     "output_type": "execute_result"
    }
   ],
   "source": [
    "x = df['tax_value']\n",
    "y = df['square_feet']\n",
    "x.head()"
   ]
  },
  {
   "cell_type": "code",
   "execution_count": 5,
   "id": "3b5349c6",
   "metadata": {
    "ExecuteTime": {
     "end_time": "2022-07-20T21:45:53.185056Z",
     "start_time": "2022-07-20T21:45:53.061158Z"
    }
   },
   "outputs": [
    {
     "data": {
      "text/plain": [
       "Text(0, 0.5, 'y=square_feet')"
      ]
     },
     "execution_count": 5,
     "metadata": {},
     "output_type": "execute_result"
    },
    {
     "data": {
      "image/png": "[encoded data removed]",
      "text/plain": [
       "<Figure size 432x288 with 1 Axes>"
      ]
     },
     "metadata": {
      "needs_background": "light"
     },
     "output_type": "display_data"
    }
   ],
   "source": [
    "plt.scatter(x, y)\n",
    "plt.axhline(y.mean(), ls=':')\n",
    "plt.xlabel('x=tax_value')\n",
    "plt.ylabel('y=square_feet')"
   ]
  },
  {
   "cell_type": "markdown",
   "id": "3114c5a6",
   "metadata": {},
   "source": [
    "Linear Regression:\n",
    "- Does a set of independent variables do a good job in predicting an outcome (dependent) variable\n",
    "- Is the model good enough compared to a baseline?\n",
    "- Is the model with features/ind variable valuable/significant compared to a model with no features?"
   ]
  },
  {
   "cell_type": "markdown",
   "id": "2f15082f",
   "metadata": {
    "ExecuteTime": {
     "end_time": "2022-07-20T21:16:10.035108Z",
     "start_time": "2022-07-20T21:16:09.892927Z"
    }
   },
   "source": [
    "### Create a baseline prediction.\n",
    "- Make a prediction just based on dependent variable i.e. model with no independent variable\n",
    "    - mean or median of dependent variable (we will use mean for this lesson)"
   ]
  },
  {
   "cell_type": "code",
   "execution_count": 6,
   "id": "152a655c",
   "metadata": {
    "ExecuteTime": {
     "end_time": "2022-07-20T21:45:53.189685Z",
     "start_time": "2022-07-20T21:45:53.186011Z"
    }
   },
   "outputs": [
    {
     "data": {
      "text/plain": [
       "1842.4823781128039"
      ]
     },
     "execution_count": 6,
     "metadata": {},
     "output_type": "execute_result"
    }
   ],
   "source": [
    "baseline = y.mean()\n",
    "baseline"
   ]
  },
  {
   "cell_type": "code",
   "execution_count": 7,
   "id": "9cd8ec8b",
   "metadata": {
    "ExecuteTime": {
     "end_time": "2022-07-20T21:45:53.199293Z",
     "start_time": "2022-07-20T21:45:53.191685Z"
    }
   },
   "outputs": [
    {
     "data": {
      "text/html": [
       "<div>\n",
       "<style scoped>\n",
       "    .dataframe tbody tr th:only-of-type {\n",
       "        vertical-align: middle;\n",
       "    }\n",
       "\n",
       "    .dataframe tbody tr th {\n",
       "        vertical-align: top;\n",
       "    }\n",
       "\n",
       "    .dataframe thead th {\n",
       "        text-align: right;\n",
       "    }\n",
       "</style>\n",
       "<table border=\"1\" class=\"dataframe\">\n",
       "  <thead>\n",
       "    <tr style=\"text-align: right;\">\n",
       "      <th></th>\n",
       "      <th>bedrooms</th>\n",
       "      <th>bathrooms</th>\n",
       "      <th>square_feet</th>\n",
       "      <th>garage</th>\n",
       "      <th>pool</th>\n",
       "      <th>lot_size</th>\n",
       "      <th>zip</th>\n",
       "      <th>year_built</th>\n",
       "      <th>tax_value</th>\n",
       "      <th>tax_amount</th>\n",
       "      <th>fed_code</th>\n",
       "      <th>age</th>\n",
       "      <th>baseline</th>\n",
       "    </tr>\n",
       "    <tr>\n",
       "      <th>parcel</th>\n",
       "      <th></th>\n",
       "      <th></th>\n",
       "      <th></th>\n",
       "      <th></th>\n",
       "      <th></th>\n",
       "      <th></th>\n",
       "      <th></th>\n",
       "      <th></th>\n",
       "      <th></th>\n",
       "      <th></th>\n",
       "      <th></th>\n",
       "      <th></th>\n",
       "      <th></th>\n",
       "    </tr>\n",
       "  </thead>\n",
       "  <tbody>\n",
       "    <tr>\n",
       "      <th>14297519</th>\n",
       "      <td>4</td>\n",
       "      <td>3</td>\n",
       "      <td>3100</td>\n",
       "      <td>2</td>\n",
       "      <td>0</td>\n",
       "      <td>4506</td>\n",
       "      <td>96978</td>\n",
       "      <td>1998</td>\n",
       "      <td>1023282</td>\n",
       "      <td>11013.72</td>\n",
       "      <td>6059</td>\n",
       "      <td>19</td>\n",
       "      <td>1842.482378</td>\n",
       "    </tr>\n",
       "    <tr>\n",
       "      <th>17052889</th>\n",
       "      <td>2</td>\n",
       "      <td>1</td>\n",
       "      <td>1465</td>\n",
       "      <td>1</td>\n",
       "      <td>0</td>\n",
       "      <td>12647</td>\n",
       "      <td>97099</td>\n",
       "      <td>1967</td>\n",
       "      <td>464000</td>\n",
       "      <td>5672.48</td>\n",
       "      <td>6111</td>\n",
       "      <td>50</td>\n",
       "      <td>1842.482378</td>\n",
       "    </tr>\n",
       "    <tr>\n",
       "      <th>14186244</th>\n",
       "      <td>3</td>\n",
       "      <td>2</td>\n",
       "      <td>1243</td>\n",
       "      <td>2</td>\n",
       "      <td>1</td>\n",
       "      <td>8432</td>\n",
       "      <td>97078</td>\n",
       "      <td>1962</td>\n",
       "      <td>564778</td>\n",
       "      <td>6488.30</td>\n",
       "      <td>6059</td>\n",
       "      <td>55</td>\n",
       "      <td>1842.482378</td>\n",
       "    </tr>\n",
       "    <tr>\n",
       "      <th>12177905</th>\n",
       "      <td>4</td>\n",
       "      <td>3</td>\n",
       "      <td>2376</td>\n",
       "      <td>0</td>\n",
       "      <td>1</td>\n",
       "      <td>13038</td>\n",
       "      <td>96330</td>\n",
       "      <td>1970</td>\n",
       "      <td>145143</td>\n",
       "      <td>1777.51</td>\n",
       "      <td>6037</td>\n",
       "      <td>47</td>\n",
       "      <td>1842.482378</td>\n",
       "    </tr>\n",
       "    <tr>\n",
       "      <th>12095076</th>\n",
       "      <td>4</td>\n",
       "      <td>3</td>\n",
       "      <td>2962</td>\n",
       "      <td>0</td>\n",
       "      <td>1</td>\n",
       "      <td>63000</td>\n",
       "      <td>96293</td>\n",
       "      <td>1950</td>\n",
       "      <td>773303</td>\n",
       "      <td>9516.26</td>\n",
       "      <td>6037</td>\n",
       "      <td>67</td>\n",
       "      <td>1842.482378</td>\n",
       "    </tr>\n",
       "  </tbody>\n",
       "</table>\n",
       "</div>"
      ],
      "text/plain": [
       "          bedrooms  bathrooms  square_feet  garage  pool  lot_size    zip  \\\n",
       "parcel                                                                      \n",
       "14297519         4          3         3100       2     0      4506  96978   \n",
       "17052889         2          1         1465       1     0     12647  97099   \n",
       "14186244         3          2         1243       2     1      8432  97078   \n",
       "12177905         4          3         2376       0     1     13038  96330   \n",
       "12095076         4          3         2962       0     1     63000  96293   \n",
       "\n",
       "          year_built  tax_value  tax_amount  fed_code  age     baseline  \n",
       "parcel                                                                   \n",
       "14297519        1998    1023282    11013.72      6059   19  1842.482378  \n",
       "17052889        1967     464000     5672.48      6111   50  1842.482378  \n",
       "14186244        1962     564778     6488.30      6059   55  1842.482378  \n",
       "12177905        1970     145143     1777.51      6037   47  1842.482378  \n",
       "12095076        1950     773303     9516.26      6037   67  1842.482378  "
      ]
     },
     "execution_count": 7,
     "metadata": {},
     "output_type": "execute_result"
    }
   ],
   "source": [
    "df['baseline'] = y.mean()\n",
    "df.head()"
   ]
  },
  {
   "cell_type": "code",
   "execution_count": 8,
   "id": "87299927",
   "metadata": {
    "ExecuteTime": {
     "end_time": "2022-07-20T21:45:53.295043Z",
     "start_time": "2022-07-20T21:45:53.201403Z"
    }
   },
   "outputs": [
    {
     "data": {
      "image/png": "[encoded data removed]",
      "text/plain": [
       "<Figure size 432x288 with 1 Axes>"
      ]
     },
     "metadata": {
      "needs_background": "light"
     },
     "output_type": "display_data"
    }
   ],
   "source": [
    "# plot data with baseline:\n",
    "\n",
    "plt.scatter(x, y)\n",
    "plt.axhline(y.mean(), ls = ':')\n",
    "plt.xlabel('x = tax_value')\n",
    "plt.ylabel('y = square_feet')\n",
    "plt.title('Baseline model');"
   ]
  },
  {
   "cell_type": "code",
   "execution_count": 9,
   "id": "c277fe8f",
   "metadata": {
    "ExecuteTime": {
     "end_time": "2022-07-20T21:45:53.299455Z",
     "start_time": "2022-07-20T21:45:53.295763Z"
    }
   },
   "outputs": [],
   "source": [
    "# Need to add a prepare.py file \n",
    "def train_validate_test_split(df, target, seed=123):\n",
    "    '''\n",
    "    Cleanly splits data into train, validate, and test sets.\n",
    "    Takes as arguments:\n",
    "    dataframe, the name of the target variable, and an integer for setting a random seed.\n",
    "    Test is set to 20% of the original dataset, validate is 24% of the \n",
    "    original dataset, and train is set to 56% of the original dataset. \n",
    "    The function returns, in this order, train, validate and test dataframes. \n",
    "    '''\n",
    "    \n",
    "    if target:\n",
    "        train_validate, test = train_test_split(df, test_size=0.2, \n",
    "                                                random_state=seed, \n",
    "                                                stratify=df[target])\n",
    "        train, validate = train_test_split(train_validate, test_size=0.3, \n",
    "                                           random_state=seed,\n",
    "                                           stratify=train_validate[target])\n",
    "    else:\n",
    "        train_validate, test = train_test_split(df, test_size=0.2, \n",
    "                                                random_state=seed)\n",
    "        train, validate = train_test_split(train_validate, test_size=0.3, \n",
    "                                           random_state=seed)\n",
    "        \n",
    "    return train, validate, test"
   ]
  },
  {
   "cell_type": "markdown",
   "id": "dd8c8279",
   "metadata": {},
   "source": [
    "### 2. Fit a linear regression model (ordinary least squares) and compute `yhat`, predictions of `taxvaluedollarcnt` (tax_value) using only `calfulatedfinishedsqft` (square_feet)."
   ]
  },
  {
   "cell_type": "markdown",
   "id": "370c979f",
   "metadata": {},
   "source": [
    "### 3. Modify and add to the code above as necessary for it to work with the tips dataset."
   ]
  },
  {
   "cell_type": "code",
   "execution_count": 10,
   "id": "3ea21a8e",
   "metadata": {
    "ExecuteTime": {
     "end_time": "2022-07-20T21:45:53.317210Z",
     "start_time": "2022-07-20T21:45:53.302571Z"
    }
   },
   "outputs": [
    {
     "data": {
      "text/html": [
       "<div>\n",
       "<style scoped>\n",
       "    .dataframe tbody tr th:only-of-type {\n",
       "        vertical-align: middle;\n",
       "    }\n",
       "\n",
       "    .dataframe tbody tr th {\n",
       "        vertical-align: top;\n",
       "    }\n",
       "\n",
       "    .dataframe thead th {\n",
       "        text-align: right;\n",
       "    }\n",
       "</style>\n",
       "<table border=\"1\" class=\"dataframe\">\n",
       "  <thead>\n",
       "    <tr style=\"text-align: right;\">\n",
       "      <th></th>\n",
       "      <th>square_feet</th>\n",
       "      <th>tax_value</th>\n",
       "      <th>baseline</th>\n",
       "      <th>yhat</th>\n",
       "    </tr>\n",
       "    <tr>\n",
       "      <th>parcel</th>\n",
       "      <th></th>\n",
       "      <th></th>\n",
       "      <th></th>\n",
       "      <th></th>\n",
       "    </tr>\n",
       "  </thead>\n",
       "  <tbody>\n",
       "    <tr>\n",
       "      <th>14297519</th>\n",
       "      <td>3100</td>\n",
       "      <td>1023282</td>\n",
       "      <td>1842.482378</td>\n",
       "      <td>2619.773539</td>\n",
       "    </tr>\n",
       "    <tr>\n",
       "      <th>17052889</th>\n",
       "      <td>1465</td>\n",
       "      <td>464000</td>\n",
       "      <td>1842.482378</td>\n",
       "      <td>1869.745062</td>\n",
       "    </tr>\n",
       "    <tr>\n",
       "      <th>14186244</th>\n",
       "      <td>1243</td>\n",
       "      <td>564778</td>\n",
       "      <td>1842.482378</td>\n",
       "      <td>2004.894003</td>\n",
       "    </tr>\n",
       "    <tr>\n",
       "      <th>12177905</th>\n",
       "      <td>2376</td>\n",
       "      <td>145143</td>\n",
       "      <td>1842.482378</td>\n",
       "      <td>1442.139972</td>\n",
       "    </tr>\n",
       "    <tr>\n",
       "      <th>12095076</th>\n",
       "      <td>2962</td>\n",
       "      <td>773303</td>\n",
       "      <td>1842.482378</td>\n",
       "      <td>2284.537704</td>\n",
       "    </tr>\n",
       "    <tr>\n",
       "      <th>...</th>\n",
       "      <td>...</td>\n",
       "      <td>...</td>\n",
       "      <td>...</td>\n",
       "      <td>...</td>\n",
       "    </tr>\n",
       "    <tr>\n",
       "      <th>11000655</th>\n",
       "      <td>1286</td>\n",
       "      <td>354621</td>\n",
       "      <td>1842.482378</td>\n",
       "      <td>1723.061699</td>\n",
       "    </tr>\n",
       "    <tr>\n",
       "      <th>17239384</th>\n",
       "      <td>1612</td>\n",
       "      <td>67205</td>\n",
       "      <td>1842.482378</td>\n",
       "      <td>1337.620751</td>\n",
       "    </tr>\n",
       "    <tr>\n",
       "      <th>12773139</th>\n",
       "      <td>1032</td>\n",
       "      <td>49546</td>\n",
       "      <td>1842.482378</td>\n",
       "      <td>1313.939043</td>\n",
       "    </tr>\n",
       "    <tr>\n",
       "      <th>12826780</th>\n",
       "      <td>1762</td>\n",
       "      <td>522000</td>\n",
       "      <td>1842.482378</td>\n",
       "      <td>1947.526310</td>\n",
       "    </tr>\n",
       "    <tr>\n",
       "      <th>13083743</th>\n",
       "      <td>1050</td>\n",
       "      <td>259334</td>\n",
       "      <td>1842.482378</td>\n",
       "      <td>1595.276497</td>\n",
       "    </tr>\n",
       "  </tbody>\n",
       "</table>\n",
       "<p>50477 rows × 4 columns</p>\n",
       "</div>"
      ],
      "text/plain": [
       "          square_feet  tax_value     baseline         yhat\n",
       "parcel                                                    \n",
       "14297519         3100    1023282  1842.482378  2619.773539\n",
       "17052889         1465     464000  1842.482378  1869.745062\n",
       "14186244         1243     564778  1842.482378  2004.894003\n",
       "12177905         2376     145143  1842.482378  1442.139972\n",
       "12095076         2962     773303  1842.482378  2284.537704\n",
       "...               ...        ...          ...          ...\n",
       "11000655         1286     354621  1842.482378  1723.061699\n",
       "17239384         1612      67205  1842.482378  1337.620751\n",
       "12773139         1032      49546  1842.482378  1313.939043\n",
       "12826780         1762     522000  1842.482378  1947.526310\n",
       "13083743         1050     259334  1842.482378  1595.276497\n",
       "\n",
       "[50477 rows x 4 columns]"
      ]
     },
     "execution_count": 10,
     "metadata": {},
     "output_type": "execute_result"
    }
   ],
   "source": [
    "# Now we fit a regression model using OLS method.\n",
    "# OLS = ordinary least squares.\n",
    "\n",
    "# create the model object\n",
    "lm = LinearRegression(normalize=True)\n",
    "\n",
    "# fit the model to training data\n",
    "lm.fit(df[['tax_value']], df.square_feet)\n",
    "\n",
    "# make prediction\n",
    "df['yhat'] = lm.predict(df[['tax_value']])\n",
    "\n",
    "#drop unnecessary columns\n",
    "df = df.drop(columns=['bedrooms', 'bathrooms','garage', 'pool', 'lot_size','zip', 'year_built','tax_amount', 'fed_code', 'age'])\n",
    "\n",
    "df"
   ]
  },
  {
   "cell_type": "code",
   "execution_count": 11,
   "id": "81912260",
   "metadata": {
    "ExecuteTime": {
     "end_time": "2022-07-20T21:45:53.326253Z",
     "start_time": "2022-07-20T21:45:53.317976Z"
    }
   },
   "outputs": [
    {
     "data": {
      "text/plain": [
       "((28266, 4), (12115, 4), (10096, 4))"
      ]
     },
     "execution_count": 11,
     "metadata": {},
     "output_type": "execute_result"
    }
   ],
   "source": [
    "### Start over with train, validate, test\n",
    "train, validate, test = train_validate_test_split(df, target = None)\n",
    "train.shape, validate.shape, test.shape"
   ]
  },
  {
   "cell_type": "code",
   "execution_count": 12,
   "id": "b02e513b",
   "metadata": {
    "ExecuteTime": {
     "end_time": "2022-07-20T21:45:53.332618Z",
     "start_time": "2022-07-20T21:45:53.327268Z"
    }
   },
   "outputs": [],
   "source": [
    "train[\"residuals\"] = train.yhat - train.square_feet\n",
    "train[\"baseline\"] = train.square_feet.mean()\n",
    "train[\"baseline_residual\"] = train.baseline - train.square_feet"
   ]
  },
  {
   "cell_type": "markdown",
   "id": "ad4c6c77",
   "metadata": {},
   "source": [
    "### 3. Plot the residuals for the linear regression model that you made."
   ]
  },
  {
   "cell_type": "code",
   "execution_count": 13,
   "id": "92ec3cca",
   "metadata": {
    "ExecuteTime": {
     "end_time": "2022-07-20T21:45:53.597004Z",
     "start_time": "2022-07-20T21:45:53.335064Z"
    }
   },
   "outputs": [
    {
     "data": {
      "image/png": "[encoded data removed]",
      "text/plain": [
       "<Figure size 1152x360 with 4 Axes>"
      ]
     },
     "metadata": {
      "needs_background": "light"
     },
     "output_type": "display_data"
    }
   ],
   "source": [
    "plt.subplots(2,2, figsize=(16,5))\n",
    "plt.subplot(221)\n",
    "plt.scatter(x=train.tax_value, y = train.residuals)\n",
    "plt.axhline(0)\n",
    "plt.xlabel('tax_value')\n",
    "plt.ylabel('residual (yhat - y)')\n",
    "plt.title(\"OLS Residuals\")\n",
    "plt.subplot(222)\n",
    "plt.scatter(x=train.tax_value, y = train.baseline_residual)\n",
    "plt.axhline(0)\n",
    "plt.xlabel('tax_value')\n",
    "plt.ylabel('residual (yhat - y)')\n",
    "plt.title(\"Baseline residuals\")\n",
    "\n",
    "plt.subplot(223)\n",
    "plt.scatter(x=train.square_feet, y = train.residuals)\n",
    "plt.axhline(0)\n",
    "plt.xlabel('square_feet')\n",
    "plt.ylabel('residual (yhat - y)')\n",
    "plt.title(\"OLS Residuals\")\n",
    "plt.subplot(224)\n",
    "plt.scatter(x=train.square_feet, y = train.baseline_residual)\n",
    "plt.axhline(0)\n",
    "plt.xlabel('square_feet')\n",
    "plt.ylabel('residual (yhat - y)')\n",
    "plt.title(\"Baseline residuals\")\n",
    "\n",
    "plt.tight_layout()"
   ]
  },
  {
   "cell_type": "code",
   "execution_count": 19,
   "id": "79955218",
   "metadata": {
    "ExecuteTime": {
     "end_time": "2022-07-20T21:48:54.922238Z",
     "start_time": "2022-07-20T21:48:54.806689Z"
    }
   },
   "outputs": [],
   "source": [
    "# Values\n",
    "SSE = (train.residuals**2).sum()\n",
    "\n",
    "ESS = ((train.yhat - train.baseline)**2).sum()\n",
    "\n",
    "# TSS = ((train.square_feet-train.baseline)**2).sum() .... OR:\n",
    "TSS = SSE + ESS\n",
    "\n",
    "MSE = SSE/len(train)\n",
    "\n",
    "RMSE = mean_squared_error(train.square_feet, train.yhat, squared = False)\n",
    "\n",
    "RMSE_model = MSE ** 0.5\n",
    "\n",
    "model = {'SSE':SSE,'ESS':ESS,'TSS':TSS,'MSE':MSE, 'RMSE':RMSE_model}"
   ]
  },
  {
   "cell_type": "code",
   "execution_count": 27,
   "id": "a3b25b1a",
   "metadata": {
    "ExecuteTime": {
     "end_time": "2022-07-20T21:53:32.738349Z",
     "start_time": "2022-07-20T21:53:32.717993Z"
    }
   },
   "outputs": [],
   "source": [
    "SSE = (train.baseline_residual**2).sum()\n",
    "\n",
    "ESS = ((train.baseline - train.baseline)**2).sum()\n",
    "\n",
    "# TSS = ((train.tip-square_feet.baseline)**2).sum() .... OR:\n",
    "TSS = SSE + ESS\n",
    "\n",
    "MSE = SSE/len(train)\n",
    "\n",
    "RMSE_base = MSE ** 0.5\n",
    "\n",
    "base = {'SSE':SSE,'ESS':ESS,'TSS':TSS,'MSE':MSE, 'RMSE':RMSE_base}"
   ]
  },
  {
   "cell_type": "code",
   "execution_count": 28,
   "id": "94f7db51",
   "metadata": {
    "ExecuteTime": {
     "end_time": "2022-07-20T21:53:34.995342Z",
     "start_time": "2022-07-20T21:53:34.912708Z"
    }
   },
   "outputs": [],
   "source": [
    "results = pd.DataFrame(data=[model,base], index = ['model','base']).T"
   ]
  },
  {
   "cell_type": "code",
   "execution_count": 29,
   "id": "bd28c29e",
   "metadata": {
    "ExecuteTime": {
     "end_time": "2022-07-20T21:53:42.941889Z",
     "start_time": "2022-07-20T21:53:42.890378Z"
    }
   },
   "outputs": [
    {
     "data": {
      "text/html": [
       "<div>\n",
       "<style scoped>\n",
       "    .dataframe tbody tr th:only-of-type {\n",
       "        vertical-align: middle;\n",
       "    }\n",
       "\n",
       "    .dataframe tbody tr th {\n",
       "        vertical-align: top;\n",
       "    }\n",
       "\n",
       "    .dataframe thead th {\n",
       "        text-align: right;\n",
       "    }\n",
       "</style>\n",
       "<table border=\"1\" class=\"dataframe\">\n",
       "  <thead>\n",
       "    <tr style=\"text-align: right;\">\n",
       "      <th></th>\n",
       "      <th>model</th>\n",
       "      <th>base</th>\n",
       "    </tr>\n",
       "  </thead>\n",
       "  <tbody>\n",
       "    <tr>\n",
       "      <th>SSE</th>\n",
       "      <td>1.274412e+10</td>\n",
       "      <td>1.891973e+10</td>\n",
       "    </tr>\n",
       "    <tr>\n",
       "      <th>ESS</th>\n",
       "      <td>6.289437e+09</td>\n",
       "      <td>0.000000e+00</td>\n",
       "    </tr>\n",
       "    <tr>\n",
       "      <th>TSS</th>\n",
       "      <td>1.903356e+10</td>\n",
       "      <td>1.891973e+10</td>\n",
       "    </tr>\n",
       "    <tr>\n",
       "      <th>MSE</th>\n",
       "      <td>4.508640e+05</td>\n",
       "      <td>6.693459e+05</td>\n",
       "    </tr>\n",
       "    <tr>\n",
       "      <th>RMSE</th>\n",
       "      <td>6.714641e+02</td>\n",
       "      <td>8.181356e+02</td>\n",
       "    </tr>\n",
       "  </tbody>\n",
       "</table>\n",
       "</div>"
      ],
      "text/plain": [
       "             model          base\n",
       "SSE   1.274412e+10  1.891973e+10\n",
       "ESS   6.289437e+09  0.000000e+00\n",
       "TSS   1.903356e+10  1.891973e+10\n",
       "MSE   4.508640e+05  6.693459e+05\n",
       "RMSE  6.714641e+02  8.181356e+02"
      ]
     },
     "execution_count": 29,
     "metadata": {},
     "output_type": "execute_result"
    }
   ],
   "source": [
    "results"
   ]
  },
  {
   "cell_type": "markdown",
   "id": "031e1873",
   "metadata": {},
   "source": [
    "### 4. Calculate the sum of squared errors, explained sum of squares, total sum of squares, mean squared error, and root mean squared error for your model."
   ]
  },
  {
   "cell_type": "code",
   "execution_count": 30,
   "id": "51ffa0d4",
   "metadata": {
    "ExecuteTime": {
     "end_time": "2022-07-20T21:54:55.153862Z",
     "start_time": "2022-07-20T21:54:55.128253Z"
    }
   },
   "outputs": [
    {
     "name": "stdout",
     "output_type": "stream",
     "text": [
      " The SSE of the OLS model is 12744123185.9\n"
     ]
    }
   ],
   "source": [
    "#Sum of Squared Errors\n",
    "SSE = (train.residuals**2).sum()\n",
    "print(f' The SSE of the OLS model is {round(SSE,1)}')"
   ]
  },
  {
   "cell_type": "code",
   "execution_count": 31,
   "id": "ad06b4ba",
   "metadata": {
    "ExecuteTime": {
     "end_time": "2022-07-20T21:54:58.281136Z",
     "start_time": "2022-07-20T21:54:58.272080Z"
    }
   },
   "outputs": [
    {
     "name": "stdout",
     "output_type": "stream",
     "text": [
      "Model is better than baseline (SSE is less):  True\n"
     ]
    }
   ],
   "source": [
    "print(\"Model is better than baseline (SSE is less): \", results.model.SSE<results.base.SSE)"
   ]
  },
  {
   "cell_type": "code",
   "execution_count": 18,
   "id": "b7fe13c0",
   "metadata": {
    "ExecuteTime": {
     "end_time": "2022-07-20T21:47:41.636835Z",
     "start_time": "2022-07-20T21:47:41.612433Z"
    }
   },
   "outputs": [
    {
     "data": {
      "text/plain": [
       "450864.04818208376"
      ]
     },
     "execution_count": 18,
     "metadata": {},
     "output_type": "execute_result"
    }
   ],
   "source": [
    "#Mean squared error OLS:\n",
    "MSE"
   ]
  },
  {
   "cell_type": "code",
   "execution_count": 20,
   "id": "7eb2abae",
   "metadata": {
    "ExecuteTime": {
     "end_time": "2022-07-20T21:49:03.006191Z",
     "start_time": "2022-07-20T21:49:02.999116Z"
    }
   },
   "outputs": [
    {
     "data": {
      "text/plain": [
       "671.4641078881907"
      ]
     },
     "execution_count": 20,
     "metadata": {},
     "output_type": "execute_result"
    }
   ],
   "source": [
    "# RMSE of OLS model\n",
    "RMSE"
   ]
  },
  {
   "cell_type": "code",
   "execution_count": 21,
   "id": "84117ac2",
   "metadata": {
    "ExecuteTime": {
     "end_time": "2022-07-20T21:49:24.472093Z",
     "start_time": "2022-07-20T21:49:24.461910Z"
    }
   },
   "outputs": [
    {
     "data": {
      "text/plain": [
       "6289436878.939661"
      ]
     },
     "execution_count": 21,
     "metadata": {},
     "output_type": "execute_result"
    }
   ],
   "source": [
    "# ESS = sum(train.yhat - train.square_feet.mean())**2\n",
    "ESS"
   ]
  },
  {
   "cell_type": "code",
   "execution_count": 22,
   "id": "0ca5a018",
   "metadata": {
    "ExecuteTime": {
     "end_time": "2022-07-20T21:50:19.926207Z",
     "start_time": "2022-07-20T21:50:19.915921Z"
    }
   },
   "outputs": [
    {
     "data": {
      "text/plain": [
       "19033560064.85444"
      ]
     },
     "execution_count": 22,
     "metadata": {},
     "output_type": "execute_result"
    }
   ],
   "source": [
    "# Total Sum of Errors (ESS + SSE)\n",
    "TSS"
   ]
  },
  {
   "cell_type": "markdown",
   "id": "130552f1",
   "metadata": {},
   "source": [
    "### 5. Calculate the sum of squared errors, mean squared error, and root mean squared error for the baseline model (i.e. a model that always predicts the average tip amount)."
   ]
  },
  {
   "cell_type": "code",
   "execution_count": 32,
   "id": "64bcac7d",
   "metadata": {
    "ExecuteTime": {
     "end_time": "2022-07-20T21:55:28.971661Z",
     "start_time": "2022-07-20T21:55:28.950196Z"
    }
   },
   "outputs": [
    {
     "name": "stdout",
     "output_type": "stream",
     "text": [
      " The SSE of the baseline model is 18919730214.5\n"
     ]
    }
   ],
   "source": [
    "SSE_baseline = (train.baseline_residual**2).sum()\n",
    "print(f' The SSE of the baseline model is {round(SSE_baseline,1)}')"
   ]
  },
  {
   "cell_type": "code",
   "execution_count": 34,
   "id": "5476c679",
   "metadata": {
    "ExecuteTime": {
     "end_time": "2022-07-20T21:55:45.365948Z",
     "start_time": "2022-07-20T21:55:45.355117Z"
    }
   },
   "outputs": [
    {
     "data": {
      "text/plain": [
       "669345.8648020057"
      ]
     },
     "execution_count": 34,
     "metadata": {},
     "output_type": "execute_result"
    }
   ],
   "source": [
    "#Mean squared error of baseline model:\n",
    "MSE_baseline = SSE_baseline/len(train)\n",
    "MSE_baseline"
   ]
  },
  {
   "cell_type": "code",
   "execution_count": 35,
   "id": "73a738ec",
   "metadata": {
    "ExecuteTime": {
     "end_time": "2022-07-20T21:56:08.139732Z",
     "start_time": "2022-07-20T21:56:08.105772Z"
    }
   },
   "outputs": [
    {
     "data": {
      "text/plain": [
       "818.1356029424497"
      ]
     },
     "execution_count": 35,
     "metadata": {},
     "output_type": "execute_result"
    }
   ],
   "source": [
    "# RMSE for the baseline model\n",
    "RMSE_baseline = mean_squared_error(train.square_feet, train.baseline, squared = False)\n",
    "RMSE_baseline"
   ]
  },
  {
   "cell_type": "markdown",
   "id": "09af9c2b",
   "metadata": {},
   "source": [
    "### 6. Write python code that compares the sum of squared errors for your model against the sum of squared errors for the baseline model and outputs whether or not your model performs better than the baseline model."
   ]
  },
  {
   "cell_type": "code",
   "execution_count": 36,
   "id": "458b281a",
   "metadata": {
    "ExecuteTime": {
     "end_time": "2022-07-20T21:57:04.918397Z",
     "start_time": "2022-07-20T21:57:04.872671Z"
    }
   },
   "outputs": [
    {
     "data": {
      "text/html": [
       "<div>\n",
       "<style scoped>\n",
       "    .dataframe tbody tr th:only-of-type {\n",
       "        vertical-align: middle;\n",
       "    }\n",
       "\n",
       "    .dataframe tbody tr th {\n",
       "        vertical-align: top;\n",
       "    }\n",
       "\n",
       "    .dataframe thead th {\n",
       "        text-align: right;\n",
       "    }\n",
       "</style>\n",
       "<table border=\"1\" class=\"dataframe\">\n",
       "  <thead>\n",
       "    <tr style=\"text-align: right;\">\n",
       "      <th></th>\n",
       "      <th>metric</th>\n",
       "      <th>model_error</th>\n",
       "    </tr>\n",
       "  </thead>\n",
       "  <tbody>\n",
       "    <tr>\n",
       "      <th>0</th>\n",
       "      <td>SSE</td>\n",
       "      <td>1.274412e+10</td>\n",
       "    </tr>\n",
       "    <tr>\n",
       "      <th>1</th>\n",
       "      <td>MSE</td>\n",
       "      <td>6.693459e+05</td>\n",
       "    </tr>\n",
       "    <tr>\n",
       "      <th>2</th>\n",
       "      <td>RMSE</td>\n",
       "      <td>6.714641e+02</td>\n",
       "    </tr>\n",
       "  </tbody>\n",
       "</table>\n",
       "</div>"
      ],
      "text/plain": [
       "  metric   model_error\n",
       "0    SSE  1.274412e+10\n",
       "1    MSE  6.693459e+05\n",
       "2   RMSE  6.714641e+02"
      ]
     },
     "execution_count": 36,
     "metadata": {},
     "output_type": "execute_result"
    }
   ],
   "source": [
    "df_eval = pd.DataFrame(np.array(['SSE', 'MSE','RMSE']), columns=['metric'])\n",
    "df_eval['model_error'] = np.array([SSE,  MSE, RMSE])\n",
    "\n",
    "\n",
    "df_eval"
   ]
  },
  {
   "cell_type": "code",
   "execution_count": 37,
   "id": "823a72f5",
   "metadata": {
    "ExecuteTime": {
     "end_time": "2022-07-20T21:57:20.916820Z",
     "start_time": "2022-07-20T21:57:20.899513Z"
    }
   },
   "outputs": [
    {
     "data": {
      "text/html": [
       "<div>\n",
       "<style scoped>\n",
       "    .dataframe tbody tr th:only-of-type {\n",
       "        vertical-align: middle;\n",
       "    }\n",
       "\n",
       "    .dataframe tbody tr th {\n",
       "        vertical-align: top;\n",
       "    }\n",
       "\n",
       "    .dataframe thead th {\n",
       "        text-align: right;\n",
       "    }\n",
       "</style>\n",
       "<table border=\"1\" class=\"dataframe\">\n",
       "  <thead>\n",
       "    <tr style=\"text-align: right;\">\n",
       "      <th></th>\n",
       "      <th>metric</th>\n",
       "      <th>model_error</th>\n",
       "      <th>baseline_error</th>\n",
       "    </tr>\n",
       "  </thead>\n",
       "  <tbody>\n",
       "    <tr>\n",
       "      <th>0</th>\n",
       "      <td>SSE</td>\n",
       "      <td>1.274412e+10</td>\n",
       "      <td>1.891973e+10</td>\n",
       "    </tr>\n",
       "    <tr>\n",
       "      <th>1</th>\n",
       "      <td>MSE</td>\n",
       "      <td>6.693459e+05</td>\n",
       "      <td>6.693459e+05</td>\n",
       "    </tr>\n",
       "    <tr>\n",
       "      <th>2</th>\n",
       "      <td>RMSE</td>\n",
       "      <td>6.714641e+02</td>\n",
       "      <td>8.181356e+02</td>\n",
       "    </tr>\n",
       "  </tbody>\n",
       "</table>\n",
       "</div>"
      ],
      "text/plain": [
       "  metric   model_error  baseline_error\n",
       "0    SSE  1.274412e+10    1.891973e+10\n",
       "1    MSE  6.693459e+05    6.693459e+05\n",
       "2   RMSE  6.714641e+02    8.181356e+02"
      ]
     },
     "execution_count": 37,
     "metadata": {},
     "output_type": "execute_result"
    }
   ],
   "source": [
    "df_eval['baseline_error'] = np.array([SSE_baseline,MSE_baseline, RMSE_baseline])\n",
    "\n",
    "df_eval"
   ]
  },
  {
   "cell_type": "code",
   "execution_count": 38,
   "id": "becae326",
   "metadata": {
    "ExecuteTime": {
     "end_time": "2022-07-20T21:57:29.963467Z",
     "start_time": "2022-07-20T21:57:29.950862Z"
    }
   },
   "outputs": [],
   "source": [
    "df_eval['better_than_baseline'] = df_eval.baseline_error > df_eval.model_error"
   ]
  },
  {
   "cell_type": "code",
   "execution_count": 39,
   "id": "c9dfa160",
   "metadata": {
    "ExecuteTime": {
     "end_time": "2022-07-20T21:57:36.332470Z",
     "start_time": "2022-07-20T21:57:36.318499Z"
    }
   },
   "outputs": [
    {
     "data": {
      "text/html": [
       "<div>\n",
       "<style scoped>\n",
       "    .dataframe tbody tr th:only-of-type {\n",
       "        vertical-align: middle;\n",
       "    }\n",
       "\n",
       "    .dataframe tbody tr th {\n",
       "        vertical-align: top;\n",
       "    }\n",
       "\n",
       "    .dataframe thead th {\n",
       "        text-align: right;\n",
       "    }\n",
       "</style>\n",
       "<table border=\"1\" class=\"dataframe\">\n",
       "  <thead>\n",
       "    <tr style=\"text-align: right;\">\n",
       "      <th></th>\n",
       "      <th>metric</th>\n",
       "      <th>model_error</th>\n",
       "      <th>baseline_error</th>\n",
       "      <th>better_than_baseline</th>\n",
       "    </tr>\n",
       "  </thead>\n",
       "  <tbody>\n",
       "    <tr>\n",
       "      <th>0</th>\n",
       "      <td>SSE</td>\n",
       "      <td>1.274412e+10</td>\n",
       "      <td>1.891973e+10</td>\n",
       "      <td>True</td>\n",
       "    </tr>\n",
       "    <tr>\n",
       "      <th>1</th>\n",
       "      <td>MSE</td>\n",
       "      <td>6.693459e+05</td>\n",
       "      <td>6.693459e+05</td>\n",
       "      <td>False</td>\n",
       "    </tr>\n",
       "    <tr>\n",
       "      <th>2</th>\n",
       "      <td>RMSE</td>\n",
       "      <td>6.714641e+02</td>\n",
       "      <td>8.181356e+02</td>\n",
       "      <td>True</td>\n",
       "    </tr>\n",
       "  </tbody>\n",
       "</table>\n",
       "</div>"
      ],
      "text/plain": [
       "  metric   model_error  baseline_error  better_than_baseline\n",
       "0    SSE  1.274412e+10    1.891973e+10                  True\n",
       "1    MSE  6.693459e+05    6.693459e+05                 False\n",
       "2   RMSE  6.714641e+02    8.181356e+02                  True"
      ]
     },
     "execution_count": 39,
     "metadata": {},
     "output_type": "execute_result"
    }
   ],
   "source": [
    "df_eval"
   ]
  },
  {
   "cell_type": "markdown",
   "id": "30b5cc1a",
   "metadata": {},
   "source": [
    "### 7. What is the amount of variance explained in your model?"
   ]
  },
  {
   "cell_type": "code",
   "execution_count": 40,
   "id": "f82a588f",
   "metadata": {
    "ExecuteTime": {
     "end_time": "2022-07-20T21:58:27.220858Z",
     "start_time": "2022-07-20T21:58:27.190778Z"
    }
   },
   "outputs": [
    {
     "data": {
      "text/plain": [
       "0.32641094553493566"
      ]
     },
     "execution_count": 40,
     "metadata": {},
     "output_type": "execute_result"
    }
   ],
   "source": [
    "from sklearn.metrics import r2_score\n",
    "r2_score(train.square_feet, train.yhat)"
   ]
  },
  {
   "cell_type": "markdown",
   "id": "a5bc525b",
   "metadata": {},
   "source": [
    "### 8. Is your model better than the baseline model?"
   ]
  },
  {
   "cell_type": "code",
   "execution_count": 41,
   "id": "31743282",
   "metadata": {
    "ExecuteTime": {
     "end_time": "2022-07-20T21:59:21.036390Z",
     "start_time": "2022-07-20T21:59:21.009345Z"
    }
   },
   "outputs": [],
   "source": [
    "# to input on evaluate.py\n",
    "def residuals(actual, predicted):\n",
    "    return actual - predicted\n",
    "\n",
    "def sse(actual, predicted):\n",
    "    return (residuals(actual, predicted) **2).sum()\n",
    "\n",
    "def mse(actual, predicted):\n",
    "    n = actual.shape[0]\n",
    "    return sse(actual, predicted) / n\n",
    "\n",
    "def rmse(actual, predicted):\n",
    "    return math.sqrt(mse(actual, predicted))\n",
    "\n",
    "def ess(actual, predicted):\n",
    "    return ((predicted - actual.mean()) ** 2).sum()\n",
    "\n",
    "def tss(actual):\n",
    "    return ((actual - actual.mean()) ** 2).sum()\n",
    "\n",
    "def r2_score(actual, predicted):\n",
    "    return ess(actual, predicted) / tss(actual)"
   ]
  },
  {
   "cell_type": "code",
   "execution_count": 42,
   "id": "f274f5bd",
   "metadata": {
    "ExecuteTime": {
     "end_time": "2022-07-20T21:59:33.574063Z",
     "start_time": "2022-07-20T21:59:33.562071Z"
    }
   },
   "outputs": [],
   "source": [
    "def regression_errors(actual, predicted):\n",
    "    return pd.Series({\n",
    "        'sse': sse(actual, predicted),\n",
    "        'ess': ess(actual, predicted),\n",
    "        'tss': tss(actual),\n",
    "        'mse': mse(actual, predicted),\n",
    "        'rmse': rmse(actual, predicted),\n",
    "    })\n",
    "\n",
    "def baseline_mean_errors(actual):\n",
    "    predicted = actual.mean()\n",
    "    return {\n",
    "        'sse': sse(actual, predicted),\n",
    "        'mse': mse(actual, predicted),\n",
    "        'rmse': rmse(actual, predicted),\n",
    "    }\n",
    "\n",
    "def better_than_baseline(actual, predicted):\n",
    "    rmse_baseline = rmse(actual, actual.mean())\n",
    "    rmse_model = rmse(actual, predicted)\n",
    "    return rmse_model < rmse_baseline"
   ]
  },
  {
   "cell_type": "code",
   "execution_count": 44,
   "id": "f0d23db7",
   "metadata": {
    "ExecuteTime": {
     "end_time": "2022-07-20T22:00:15.022212Z",
     "start_time": "2022-07-20T22:00:14.996864Z"
    }
   },
   "outputs": [
    {
     "data": {
      "text/plain": [
       "True"
      ]
     },
     "execution_count": 44,
     "metadata": {},
     "output_type": "execute_result"
    }
   ],
   "source": [
    "import math\n",
    "better_than_baseline(train.square_feet, train.yhat)"
   ]
  },
  {
   "cell_type": "markdown",
   "id": "5933ea6b",
   "metadata": {},
   "source": [
    "9. Create a file named evaluate.py that contains the following functions.\n",
    "\n",
    "- `plot_residuals(y, yhat)`: creates a residual plot\n",
    "- `regression_errors(y, yhat)`: returns the following values:\n",
    "    - sum of squared errors (SSE)\n",
    "    - explained sum of squares (ESS)\n",
    "    - total sum of squares (TSS)\n",
    "    - mean squared error (MSE)\n",
    "    - root mean squared error (RMSE)\n",
    "- `baseline_mean_errors(y)`: computes the SSE, MSE, and RMSE for the baseline model\n",
    "- `better_than_baseline(y, yhat)`: returns true if your model performs better than the baseline, otherwise "
   ]
  },
  {
   "cell_type": "code",
   "execution_count": 45,
   "id": "5000436c",
   "metadata": {
    "ExecuteTime": {
     "end_time": "2022-07-20T22:03:30.573233Z",
     "start_time": "2022-07-20T22:03:30.544925Z"
    }
   },
   "outputs": [],
   "source": [
    "def plot_residuals(x, y, yhat):\n",
    "    \"\"\" Plots residuals vs y \"\"\"\n",
    "    residuals = yhat - y\n",
    "    \n",
    "    baseline = np.full(len(y),y.mean())\n",
    "    \n",
    "    baseline_residuals = baseline - y\n",
    "    \n",
    "    plt.subplots(2,2, figsize=(16,5))\n",
    "    plt.subplot(221)\n",
    "    plt.scatter(x=x, y = residuals)\n",
    "    plt.axhline(0)\n",
    "    plt.xlabel('x')\n",
    "    plt.ylabel('residual (yhat - y)')\n",
    "    plt.title(\"OLS Residuals\")\n",
    "    plt.subplot(222)\n",
    "    plt.scatter(x=x, y = baseline_residuals)\n",
    "    plt.axhline(0)\n",
    "    plt.xlabel('x')\n",
    "    plt.ylabel('residual (yhat - y)')\n",
    "    plt.title(\"Baseline residuals\")\n",
    "\n",
    "    plt.subplot(223)\n",
    "    plt.scatter(x=y, y = residuals)\n",
    "    plt.axhline(0)\n",
    "    plt.xlabel('y')\n",
    "    plt.ylabel('residual (yhat - y)')\n",
    "    plt.title(\"OLS Residuals\")\n",
    "    plt.subplot(224)\n",
    "    plt.scatter(x=y, y = baseline_residuals)\n",
    "    plt.axhline(0)\n",
    "    plt.xlabel('y')\n",
    "    plt.ylabel('residual (yhat - y)')\n",
    "    plt.title(\"Baseline residuals\")\n",
    "\n",
    "    plt.tight_layout()"
   ]
  },
  {
   "cell_type": "code",
   "execution_count": 50,
   "id": "9094c3f9",
   "metadata": {
    "ExecuteTime": {
     "end_time": "2022-07-20T22:09:30.719707Z",
     "start_time": "2022-07-20T22:09:30.091235Z"
    }
   },
   "outputs": [
    {
     "data": {
      "image/png": "[encoded data removed]",
      "text/plain": [
       "<Figure size 1152x360 with 4 Axes>"
      ]
     },
     "metadata": {
      "needs_background": "light"
     },
     "output_type": "display_data"
    }
   ],
   "source": [
    "plot_residuals(train.tax_value, train.square_feet, train.yhat)"
   ]
  },
  {
   "cell_type": "code",
   "execution_count": 46,
   "id": "52ba9207",
   "metadata": {
    "ExecuteTime": {
     "end_time": "2022-07-20T22:03:36.814435Z",
     "start_time": "2022-07-20T22:03:36.801471Z"
    }
   },
   "outputs": [],
   "source": [
    "def regression_errors(y, yhat):\n",
    "    \"\"\" Return error metrics for given y and yhat \"\"\"\n",
    "    residuals = yhat - y\n",
    "    \n",
    "    SSE = sum(residuals**2)\n",
    "\n",
    "    ESS = sum((yhat - y.mean())**2)\n",
    "\n",
    "    TSS = SSE + ESS\n",
    "\n",
    "    MSE = mean_squared_error(y, yhat)\n",
    "\n",
    "    RMSE = mean_squared_error(y, yhat, squared = False)\n",
    "    \n",
    "    R2 = r2_score(y, yhat)\n",
    "\n",
    "    return {'SSE':SSE,'ESS':ESS,'TSS':TSS,'MSE':MSE, 'RMSE':RMSE, 'R2': R2}"
   ]
  },
  {
   "cell_type": "code",
   "execution_count": 51,
   "id": "bf4cc3e0",
   "metadata": {
    "ExecuteTime": {
     "end_time": "2022-07-20T22:10:18.272919Z",
     "start_time": "2022-07-20T22:10:18.221759Z"
    }
   },
   "outputs": [
    {
     "data": {
      "text/plain": [
       "{'SSE': 8956315465544067.0,\n",
       " 'ESS': 5468686908826717.0,\n",
       " 'TSS': 1.4425002374370784e+16,\n",
       " 'MSE': 316858256051.2305,\n",
       " 'RMSE': 562901.6397659812,\n",
       " 'R2': 1.5638188498136014}"
      ]
     },
     "execution_count": 51,
     "metadata": {},
     "output_type": "execute_result"
    }
   ],
   "source": [
    "regression_errors(train.tax_value, train.yhat)"
   ]
  },
  {
   "cell_type": "code",
   "execution_count": 47,
   "id": "bd54f66e",
   "metadata": {
    "ExecuteTime": {
     "end_time": "2022-07-20T22:03:48.399378Z",
     "start_time": "2022-07-20T22:03:48.382551Z"
    }
   },
   "outputs": [],
   "source": [
    "def baseline_mean_errors(y):\n",
    "    \"\"\" Compute the SSE, MSE, and RMSE for the baseline model (mean) \"\"\"\n",
    "    \n",
    "    baseline = np.full(len(y),y.mean())\n",
    "    \n",
    "    residuals = baseline - y\n",
    "    \n",
    "    SSE = sum(residuals**2)\n",
    "    \n",
    "    MSE = mean_squared_error(y, baseline)\n",
    "    \n",
    "    RMSE = mean_squared_error(y, baseline, squared = False)\n",
    "    \n",
    "    return {'SSE':SSE, 'MSE':MSE, 'RMSE':RMSE}"
   ]
  },
  {
   "cell_type": "code",
   "execution_count": 54,
   "id": "abc5e748",
   "metadata": {
    "ExecuteTime": {
     "end_time": "2022-07-20T22:11:05.747047Z",
     "start_time": "2022-07-20T22:11:05.731807Z"
    }
   },
   "outputs": [
    {
     "data": {
      "text/plain": [
       "{'SSE': 18919730214.493507,\n",
       " 'MSE': 669345.8648020057,\n",
       " 'RMSE': 818.1356029424497}"
      ]
     },
     "execution_count": 54,
     "metadata": {},
     "output_type": "execute_result"
    }
   ],
   "source": [
    "baseline_mean_errors(train.square_feet)"
   ]
  },
  {
   "cell_type": "code",
   "execution_count": 48,
   "id": "918ca4e9",
   "metadata": {
    "ExecuteTime": {
     "end_time": "2022-07-20T22:04:09.544956Z",
     "start_time": "2022-07-20T22:04:09.535124Z"
    }
   },
   "outputs": [],
   "source": [
    "def better_than_baseline(y, yhat):\n",
    "    \"\"\" Returns True if the model performs better than baseline based on RMSE \"\"\"\n",
    "    \n",
    "    return regression_errors(y,yhat)['RMSE'] < baseline_mean_errors(y)['RMSE']"
   ]
  },
  {
   "cell_type": "code",
   "execution_count": 55,
   "id": "4ff5f82a",
   "metadata": {
    "ExecuteTime": {
     "end_time": "2022-07-20T22:11:32.775313Z",
     "start_time": "2022-07-20T22:11:32.738751Z"
    }
   },
   "outputs": [
    {
     "data": {
      "text/plain": [
       "True"
      ]
     },
     "execution_count": 55,
     "metadata": {},
     "output_type": "execute_result"
    }
   ],
   "source": [
    "better_than_baseline(train.square_feet, train.yhat)"
   ]
  },
  {
   "cell_type": "code",
   "execution_count": null,
   "id": "82a21045",
   "metadata": {},
   "outputs": [],
   "source": []
  }
 ],
 "metadata": {
  "kernelspec": {
   "display_name": "Python 3 (ipykernel)",
   "language": "python",
   "name": "python3"
  },
  "language_info": {
   "codemirror_mode": {
    "name": "ipython",
    "version": 3
   },
   "file_extension": ".py",
   "mimetype": "text/x-python",
   "name": "python",
   "nbconvert_exporter": "python",
   "pygments_lexer": "ipython3",
   "version": "3.9.13"
  }
 },
 "nbformat": 4,
 "nbformat_minor": 5
}
