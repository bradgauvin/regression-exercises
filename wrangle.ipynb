{
 "cells": [
  {
   "cell_type": "code",
   "execution_count": 5,
   "id": "d0c308b3",
   "metadata": {
    "ExecuteTime": {
     "end_time": "2022-07-18T16:38:56.908577Z",
     "start_time": "2022-07-18T16:38:55.525309Z"
    }
   },
   "outputs": [],
   "source": [
    "import warnings\n",
    "warnings.filterwarnings(\"ignore\")\n",
    "\n",
    "import pandas as pd\n",
    "import matplotlib.pyplot as plt\n",
    "import seaborn as sns\n",
    "import numpy as np\n",
    "import os\n",
    "from env import host, user, password, get_db_url"
   ]
  },
  {
   "cell_type": "code",
   "execution_count": 2,
   "id": "19c47e95",
   "metadata": {
    "ExecuteTime": {
     "end_time": "2022-07-18T16:37:09.805627Z",
     "start_time": "2022-07-18T16:37:09.799330Z"
    }
   },
   "outputs": [],
   "source": [
    "def wrangle_zillow():\n",
    "    filename = 'zillow_values.csv'\n",
    "    # Acquire data from csv if exists\n",
    "    if os.path.exists(filename):\n",
    "        print ('Using cached csv')\n",
    "        return pd.read_csv(filename, index_col=0)\n",
    "    # Acquire data from database if no CSV exists\n",
    "    else:\n",
    "        query = '''\n",
    "            SELECT parcelid AS parcel,\n",
    "            bedroomcnt AS bedrooms,\n",
    "            bathroomcnt AS bathrooms,\n",
    "            calculatedfinishedsquarefeet AS square_feet,\n",
    "            taxvaluedollarcnt AS tax_value,\n",
    "            yearbuilt AS year,\n",
    "            taxamount AS tax_amount,\n",
    "            fips as fed_code\n",
    "            FROM properties_2017\n",
    "            JOIN propertylandusetype USING (propertylandusetypeid)\n",
    "            WHERE propertylandusedesc IN(\"Single Family Residential\",\"Inferred Single Family Residential\");\n",
    "            '''\n",
    "        df = pd.read_sql(query, get_db_url('zillow'))\n",
    "        df.tocsv('zillow_values.csv', index = False)\n",
    "    \n",
    "    return df\n",
    "    "
   ]
  },
  {
   "cell_type": "code",
   "execution_count": null,
   "id": "831fb08d",
   "metadata": {},
   "outputs": [],
   "source": []
  }
 ],
 "metadata": {
  "kernelspec": {
   "display_name": "Python 3 (ipykernel)",
   "language": "python",
   "name": "python3"
  },
  "language_info": {
   "codemirror_mode": {
    "name": "ipython",
    "version": 3
   },
   "file_extension": ".py",
   "mimetype": "text/x-python",
   "name": "python",
   "nbconvert_exporter": "python",
   "pygments_lexer": "ipython3",
   "version": "3.9.13"
  }
 },
 "nbformat": 4,
 "nbformat_minor": 5
}
