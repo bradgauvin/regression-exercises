{
 "cells": [
  {
   "cell_type": "code",
   "execution_count": 1,
   "id": "c32b69c3",
   "metadata": {
    "ExecuteTime": {
     "end_time": "2022-07-18T18:19:12.243450Z",
     "start_time": "2022-07-18T18:19:11.299750Z"
    }
   },
   "outputs": [],
   "source": [
    "import warnings\n",
    "warnings.filterwarnings(\"ignore\")\n",
    "\n",
    "import pandas as pd\n",
    "import matplotlib.pyplot as plt\n",
    "import seaborn as sns\n",
    "import numpy as np\n",
    "import os\n",
    "from env import host, user, password"
   ]
  },
  {
   "cell_type": "code",
   "execution_count": 2,
   "id": "74ce69d8",
   "metadata": {
    "ExecuteTime": {
     "end_time": "2022-07-18T18:19:12.251039Z",
     "start_time": "2022-07-18T18:19:12.248612Z"
    }
   },
   "outputs": [],
   "source": [
    "def get_connection(db, user=user, host=host,password=password):\n",
    "    return f'mysql+pymysql://{user}:{password}@{host}/{db}'\n",
    "\n",
    "def wrangle_zillow():\n",
    "    filename = 'zillow_values.csv'\n",
    "    # Acquire data from csv if exists\n",
    "    if os.path.exists(filename):\n",
    "        print ('Using cached csv')\n",
    "        return pd.read_csv(filename, index_col=0)\n",
    "    # Acquire data from database if no CSV exists\n",
    "    else:\n",
    "        query = '''\n",
    "            SELECT parcelid AS parcel,\n",
    "            bedroomcnt AS bedrooms,\n",
    "            bathroomcnt AS bathrooms,\n",
    "            calculatedfinishedsquarefeet AS square_feet,\n",
    "            taxvaluedollarcnt AS tax_value,\n",
    "            yearbuilt AS year,\n",
    "            taxamount AS tax_amount,\n",
    "            fips as fed_code\n",
    "            FROM properties_2017\n",
    "            JOIN predictions_2017 USING (parcelid)\n",
    "            JOIN propertylandusetype USING (propertylandusetypeid)\n",
    "            WHERE transactiondate IS NOT NULL\n",
    "            AND propertylandusedesc IN(\"Single Family Residential\",\"Inferred Single Family Residential\")\n",
    "            AND transactiondate BETWEEN '2017-01-01' and '2017-12-31'\n",
    "            '''\n",
    "        df = pd.read_sql(query, get_connection('zillow'))\n",
    "        df.to_csv('zillow_values.csv', index = False)\n",
    "    \n",
    "    return df\n"
   ]
  },
  {
   "cell_type": "code",
   "execution_count": 3,
   "id": "5d9bd813",
   "metadata": {
    "ExecuteTime": {
     "end_time": "2022-07-18T18:19:12.270779Z",
     "start_time": "2022-07-18T18:19:12.251766Z"
    }
   },
   "outputs": [
    {
     "name": "stdout",
     "output_type": "stream",
     "text": [
      "Using cached csv\n"
     ]
    }
   ],
   "source": [
    "# Original query had 2M rows, limited rows by selecting transaction date in 2017\n",
    "df = wrangle_zillow()"
   ]
  },
  {
   "cell_type": "code",
   "execution_count": 4,
   "id": "cedceb8a",
   "metadata": {
    "ExecuteTime": {
     "end_time": "2022-07-18T18:19:12.274600Z",
     "start_time": "2022-07-18T18:19:12.272285Z"
    }
   },
   "outputs": [],
   "source": [
    "# Reset index to get parcel as column\n",
    "df=df.reset_index()"
   ]
  },
  {
   "cell_type": "code",
   "execution_count": 5,
   "id": "b271f1eb",
   "metadata": {
    "ExecuteTime": {
     "end_time": "2022-07-18T18:19:12.278187Z",
     "start_time": "2022-07-18T18:19:12.275368Z"
    }
   },
   "outputs": [
    {
     "data": {
      "text/plain": [
       "(52441, 8)"
      ]
     },
     "execution_count": 5,
     "metadata": {},
     "output_type": "execute_result"
    }
   ],
   "source": [
    "df.shape"
   ]
  },
  {
   "cell_type": "code",
   "execution_count": 6,
   "id": "d45269f4",
   "metadata": {
    "ExecuteTime": {
     "end_time": "2022-07-18T18:19:12.286317Z",
     "start_time": "2022-07-18T18:19:12.279128Z"
    }
   },
   "outputs": [
    {
     "data": {
      "text/html": [
       "<div>\n",
       "<style scoped>\n",
       "    .dataframe tbody tr th:only-of-type {\n",
       "        vertical-align: middle;\n",
       "    }\n",
       "\n",
       "    .dataframe tbody tr th {\n",
       "        vertical-align: top;\n",
       "    }\n",
       "\n",
       "    .dataframe thead th {\n",
       "        text-align: right;\n",
       "    }\n",
       "</style>\n",
       "<table border=\"1\" class=\"dataframe\">\n",
       "  <thead>\n",
       "    <tr style=\"text-align: right;\">\n",
       "      <th></th>\n",
       "      <th>parcel</th>\n",
       "      <th>bedrooms</th>\n",
       "      <th>bathrooms</th>\n",
       "      <th>square_feet</th>\n",
       "      <th>tax_value</th>\n",
       "      <th>year</th>\n",
       "      <th>tax_amount</th>\n",
       "      <th>fed_code</th>\n",
       "    </tr>\n",
       "  </thead>\n",
       "  <tbody>\n",
       "    <tr>\n",
       "      <th>0</th>\n",
       "      <td>14297519</td>\n",
       "      <td>4.0</td>\n",
       "      <td>3.5</td>\n",
       "      <td>3100.0</td>\n",
       "      <td>1023282.0</td>\n",
       "      <td>1998.0</td>\n",
       "      <td>11013.72</td>\n",
       "      <td>6059.0</td>\n",
       "    </tr>\n",
       "    <tr>\n",
       "      <th>1</th>\n",
       "      <td>17052889</td>\n",
       "      <td>2.0</td>\n",
       "      <td>1.0</td>\n",
       "      <td>1465.0</td>\n",
       "      <td>464000.0</td>\n",
       "      <td>1967.0</td>\n",
       "      <td>5672.48</td>\n",
       "      <td>6111.0</td>\n",
       "    </tr>\n",
       "    <tr>\n",
       "      <th>2</th>\n",
       "      <td>14186244</td>\n",
       "      <td>3.0</td>\n",
       "      <td>2.0</td>\n",
       "      <td>1243.0</td>\n",
       "      <td>564778.0</td>\n",
       "      <td>1962.0</td>\n",
       "      <td>6488.30</td>\n",
       "      <td>6059.0</td>\n",
       "    </tr>\n",
       "    <tr>\n",
       "      <th>3</th>\n",
       "      <td>12177905</td>\n",
       "      <td>4.0</td>\n",
       "      <td>3.0</td>\n",
       "      <td>2376.0</td>\n",
       "      <td>145143.0</td>\n",
       "      <td>1970.0</td>\n",
       "      <td>1777.51</td>\n",
       "      <td>6037.0</td>\n",
       "    </tr>\n",
       "    <tr>\n",
       "      <th>4</th>\n",
       "      <td>12095076</td>\n",
       "      <td>4.0</td>\n",
       "      <td>3.0</td>\n",
       "      <td>2962.0</td>\n",
       "      <td>773303.0</td>\n",
       "      <td>1950.0</td>\n",
       "      <td>9516.26</td>\n",
       "      <td>6037.0</td>\n",
       "    </tr>\n",
       "  </tbody>\n",
       "</table>\n",
       "</div>"
      ],
      "text/plain": [
       "     parcel  bedrooms  bathrooms  square_feet  tax_value    year  tax_amount  \\\n",
       "0  14297519       4.0        3.5       3100.0  1023282.0  1998.0    11013.72   \n",
       "1  17052889       2.0        1.0       1465.0   464000.0  1967.0     5672.48   \n",
       "2  14186244       3.0        2.0       1243.0   564778.0  1962.0     6488.30   \n",
       "3  12177905       4.0        3.0       2376.0   145143.0  1970.0     1777.51   \n",
       "4  12095076       4.0        3.0       2962.0   773303.0  1950.0     9516.26   \n",
       "\n",
       "   fed_code  \n",
       "0    6059.0  \n",
       "1    6111.0  \n",
       "2    6059.0  \n",
       "3    6037.0  \n",
       "4    6037.0  "
      ]
     },
     "execution_count": 6,
     "metadata": {},
     "output_type": "execute_result"
    }
   ],
   "source": [
    "df.head()"
   ]
  },
  {
   "cell_type": "code",
   "execution_count": 7,
   "id": "4a09e541",
   "metadata": {
    "ExecuteTime": {
     "end_time": "2022-07-18T18:19:12.292952Z",
     "start_time": "2022-07-18T18:19:12.287415Z"
    }
   },
   "outputs": [
    {
     "name": "stdout",
     "output_type": "stream",
     "text": [
      "<class 'pandas.core.frame.DataFrame'>\n",
      "RangeIndex: 52441 entries, 0 to 52440\n",
      "Data columns (total 8 columns):\n",
      " #   Column       Non-Null Count  Dtype  \n",
      "---  ------       --------------  -----  \n",
      " 0   parcel       52441 non-null  int64  \n",
      " 1   bedrooms     52441 non-null  float64\n",
      " 2   bathrooms    52441 non-null  float64\n",
      " 3   square_feet  52359 non-null  float64\n",
      " 4   tax_value    52440 non-null  float64\n",
      " 5   year         52325 non-null  float64\n",
      " 6   tax_amount   52437 non-null  float64\n",
      " 7   fed_code     52441 non-null  float64\n",
      "dtypes: float64(7), int64(1)\n",
      "memory usage: 3.2 MB\n"
     ]
    }
   ],
   "source": [
    "df.info()"
   ]
  },
  {
   "cell_type": "code",
   "execution_count": 8,
   "id": "7d710ec4",
   "metadata": {
    "ExecuteTime": {
     "end_time": "2022-07-18T18:19:12.295217Z",
     "start_time": "2022-07-18T18:19:12.293684Z"
    }
   },
   "outputs": [],
   "source": [
    "# should be int for bed,bath, Year\n",
    "# Will change in wrangle.py"
   ]
  },
  {
   "cell_type": "code",
   "execution_count": 9,
   "id": "9b8af6ef",
   "metadata": {
    "ExecuteTime": {
     "end_time": "2022-07-18T18:19:12.321156Z",
     "start_time": "2022-07-18T18:19:12.295903Z"
    }
   },
   "outputs": [
    {
     "data": {
      "text/html": [
       "<div>\n",
       "<style scoped>\n",
       "    .dataframe tbody tr th:only-of-type {\n",
       "        vertical-align: middle;\n",
       "    }\n",
       "\n",
       "    .dataframe tbody tr th {\n",
       "        vertical-align: top;\n",
       "    }\n",
       "\n",
       "    .dataframe thead th {\n",
       "        text-align: right;\n",
       "    }\n",
       "</style>\n",
       "<table border=\"1\" class=\"dataframe\">\n",
       "  <thead>\n",
       "    <tr style=\"text-align: right;\">\n",
       "      <th></th>\n",
       "      <th>count</th>\n",
       "      <th>mean</th>\n",
       "      <th>std</th>\n",
       "      <th>min</th>\n",
       "      <th>25%</th>\n",
       "      <th>50%</th>\n",
       "      <th>75%</th>\n",
       "      <th>max</th>\n",
       "    </tr>\n",
       "  </thead>\n",
       "  <tbody>\n",
       "    <tr>\n",
       "      <th>parcel</th>\n",
       "      <td>52441.0</td>\n",
       "      <td>1.299912e+07</td>\n",
       "      <td>3.411444e+06</td>\n",
       "      <td>10711855.00</td>\n",
       "      <td>11510217.00</td>\n",
       "      <td>12577645.00</td>\n",
       "      <td>14129530.00</td>\n",
       "      <td>167687839.0</td>\n",
       "    </tr>\n",
       "    <tr>\n",
       "      <th>bedrooms</th>\n",
       "      <td>52441.0</td>\n",
       "      <td>3.300681e+00</td>\n",
       "      <td>9.490939e-01</td>\n",
       "      <td>0.00</td>\n",
       "      <td>3.00</td>\n",
       "      <td>3.00</td>\n",
       "      <td>4.00</td>\n",
       "      <td>14.0</td>\n",
       "    </tr>\n",
       "    <tr>\n",
       "      <th>bathrooms</th>\n",
       "      <td>52441.0</td>\n",
       "      <td>2.299403e+00</td>\n",
       "      <td>1.022772e+00</td>\n",
       "      <td>0.00</td>\n",
       "      <td>2.00</td>\n",
       "      <td>2.00</td>\n",
       "      <td>3.00</td>\n",
       "      <td>18.0</td>\n",
       "    </tr>\n",
       "    <tr>\n",
       "      <th>square_feet</th>\n",
       "      <td>52359.0</td>\n",
       "      <td>1.922891e+03</td>\n",
       "      <td>1.004366e+03</td>\n",
       "      <td>128.00</td>\n",
       "      <td>1268.00</td>\n",
       "      <td>1659.00</td>\n",
       "      <td>2306.00</td>\n",
       "      <td>21929.0</td>\n",
       "    </tr>\n",
       "    <tr>\n",
       "      <th>tax_value</th>\n",
       "      <td>52440.0</td>\n",
       "      <td>5.296882e+05</td>\n",
       "      <td>7.518946e+05</td>\n",
       "      <td>1000.00</td>\n",
       "      <td>193747.50</td>\n",
       "      <td>373612.00</td>\n",
       "      <td>619301.25</td>\n",
       "      <td>49061236.0</td>\n",
       "    </tr>\n",
       "    <tr>\n",
       "      <th>year</th>\n",
       "      <td>52325.0</td>\n",
       "      <td>1.963394e+03</td>\n",
       "      <td>2.313357e+01</td>\n",
       "      <td>1878.00</td>\n",
       "      <td>1950.00</td>\n",
       "      <td>1961.00</td>\n",
       "      <td>1979.00</td>\n",
       "      <td>2016.0</td>\n",
       "    </tr>\n",
       "    <tr>\n",
       "      <th>tax_amount</th>\n",
       "      <td>52437.0</td>\n",
       "      <td>6.453511e+03</td>\n",
       "      <td>8.755568e+03</td>\n",
       "      <td>49.18</td>\n",
       "      <td>2656.22</td>\n",
       "      <td>4647.74</td>\n",
       "      <td>7377.50</td>\n",
       "      <td>586639.3</td>\n",
       "    </tr>\n",
       "    <tr>\n",
       "      <th>fed_code</th>\n",
       "      <td>52441.0</td>\n",
       "      <td>6.049132e+03</td>\n",
       "      <td>2.102907e+01</td>\n",
       "      <td>6037.00</td>\n",
       "      <td>6037.00</td>\n",
       "      <td>6037.00</td>\n",
       "      <td>6059.00</td>\n",
       "      <td>6111.0</td>\n",
       "    </tr>\n",
       "  </tbody>\n",
       "</table>\n",
       "</div>"
      ],
      "text/plain": [
       "               count          mean           std          min          25%  \\\n",
       "parcel       52441.0  1.299912e+07  3.411444e+06  10711855.00  11510217.00   \n",
       "bedrooms     52441.0  3.300681e+00  9.490939e-01         0.00         3.00   \n",
       "bathrooms    52441.0  2.299403e+00  1.022772e+00         0.00         2.00   \n",
       "square_feet  52359.0  1.922891e+03  1.004366e+03       128.00      1268.00   \n",
       "tax_value    52440.0  5.296882e+05  7.518946e+05      1000.00    193747.50   \n",
       "year         52325.0  1.963394e+03  2.313357e+01      1878.00      1950.00   \n",
       "tax_amount   52437.0  6.453511e+03  8.755568e+03        49.18      2656.22   \n",
       "fed_code     52441.0  6.049132e+03  2.102907e+01      6037.00      6037.00   \n",
       "\n",
       "                     50%          75%          max  \n",
       "parcel       12577645.00  14129530.00  167687839.0  \n",
       "bedrooms            3.00         4.00         14.0  \n",
       "bathrooms           2.00         3.00         18.0  \n",
       "square_feet      1659.00      2306.00      21929.0  \n",
       "tax_value      373612.00    619301.25   49061236.0  \n",
       "year             1961.00      1979.00       2016.0  \n",
       "tax_amount       4647.74      7377.50     586639.3  \n",
       "fed_code         6037.00      6059.00       6111.0  "
      ]
     },
     "execution_count": 9,
     "metadata": {},
     "output_type": "execute_result"
    }
   ],
   "source": [
    "df.describe().T"
   ]
  },
  {
   "cell_type": "code",
   "execution_count": 10,
   "id": "7bf597b6",
   "metadata": {
    "ExecuteTime": {
     "end_time": "2022-07-18T18:19:12.327503Z",
     "start_time": "2022-07-18T18:19:12.323710Z"
    }
   },
   "outputs": [
    {
     "data": {
      "text/plain": [
       "parcel           0\n",
       "bedrooms         0\n",
       "bathrooms        0\n",
       "square_feet     82\n",
       "tax_value        1\n",
       "year           116\n",
       "tax_amount       4\n",
       "fed_code         0\n",
       "dtype: int64"
      ]
     },
     "execution_count": 10,
     "metadata": {},
     "output_type": "execute_result"
    }
   ],
   "source": [
    "df.isna().sum()"
   ]
  },
  {
   "cell_type": "code",
   "execution_count": 11,
   "id": "15b09c59",
   "metadata": {
    "ExecuteTime": {
     "end_time": "2022-07-18T18:19:12.329686Z",
     "start_time": "2022-07-18T18:19:12.328262Z"
    }
   },
   "outputs": [],
   "source": [
    "# Low number of missing values"
   ]
  },
  {
   "cell_type": "markdown",
   "id": "73a782ac",
   "metadata": {},
   "source": [
    "*** Acquire and Summarize Takeaways ***\n",
    "- small number of na values - could drop \n",
    "- Need to change float to int64 for year, bedrooms, bathrooms, fed_code\n",
    "- may want to add columns to query\n",
    "    - garage (null would be zero filled)\n",
    "    - pool (null would be zero filled)\n",
    "    - year assessed\n",
    "    - zip code of property (to know location)\n",
    "    - Air conditioning (correlation to location)\n",
    "    "
   ]
  },
  {
   "cell_type": "markdown",
   "id": "c6f1079c",
   "metadata": {},
   "source": [
    "## Prepare the Data"
   ]
  },
  {
   "cell_type": "code",
   "execution_count": 12,
   "id": "eef09a50",
   "metadata": {
    "ExecuteTime": {
     "end_time": "2022-07-18T18:19:12.333624Z",
     "start_time": "2022-07-18T18:19:12.330299Z"
    }
   },
   "outputs": [
    {
     "data": {
      "text/plain": [
       "parcel           0\n",
       "bedrooms         0\n",
       "bathrooms        0\n",
       "square_feet     82\n",
       "tax_value        1\n",
       "year           116\n",
       "tax_amount       4\n",
       "fed_code         0\n",
       "dtype: int64"
      ]
     },
     "execution_count": 12,
     "metadata": {},
     "output_type": "execute_result"
    }
   ],
   "source": [
    "df.isnull().sum()"
   ]
  },
  {
   "cell_type": "code",
   "execution_count": 38,
   "id": "c6e98d8b",
   "metadata": {
    "ExecuteTime": {
     "end_time": "2022-07-19T13:45:05.357441Z",
     "start_time": "2022-07-19T13:45:05.279992Z"
    }
   },
   "outputs": [
    {
     "data": {
      "text/plain": [
       "1955.0    1898\n",
       "1950.0    1608\n",
       "1954.0    1517\n",
       "1953.0    1484\n",
       "1956.0    1387\n",
       "          ... \n",
       "1892.0       1\n",
       "1878.0       1\n",
       "1882.0       1\n",
       "1894.0       1\n",
       "1880.0       1\n",
       "Name: year, Length: 133, dtype: int64"
      ]
     },
     "execution_count": 38,
     "metadata": {},
     "output_type": "execute_result"
    }
   ],
   "source": [
    "df.year.value_counts()"
   ]
  },
  {
   "cell_type": "code",
   "execution_count": 13,
   "id": "59452b37",
   "metadata": {
    "ExecuteTime": {
     "end_time": "2022-07-18T18:19:12.337807Z",
     "start_time": "2022-07-18T18:19:12.334334Z"
    }
   },
   "outputs": [
    {
     "data": {
      "text/plain": [
       "Index(['square_feet', 'tax_value', 'year', 'tax_amount'], dtype='object')"
      ]
     },
     "execution_count": 13,
     "metadata": {},
     "output_type": "execute_result"
    }
   ],
   "source": [
    "df.columns[df.isnull().any()]"
   ]
  },
  {
   "cell_type": "code",
   "execution_count": 24,
   "id": "f0303609",
   "metadata": {
    "ExecuteTime": {
     "end_time": "2022-07-18T18:20:59.536993Z",
     "start_time": "2022-07-18T18:20:59.503017Z"
    }
   },
   "outputs": [
    {
     "name": "stdout",
     "output_type": "stream",
     "text": [
      "<class 'pandas.core.frame.DataFrame'>\n",
      "Int64Index: 52315 entries, 0 to 52440\n",
      "Data columns (total 8 columns):\n",
      " #   Column       Non-Null Count  Dtype  \n",
      "---  ------       --------------  -----  \n",
      " 0   parcel       52315 non-null  int64  \n",
      " 1   bedrooms     52315 non-null  float64\n",
      " 2   bathrooms    52315 non-null  float64\n",
      " 3   square_feet  52315 non-null  float64\n",
      " 4   tax_value    52315 non-null  float64\n",
      " 5   year         52315 non-null  float64\n",
      " 6   tax_amount   52315 non-null  float64\n",
      " 7   fed_code     52315 non-null  float64\n",
      "dtypes: float64(7), int64(1)\n",
      "memory usage: 3.6 MB\n"
     ]
    }
   ],
   "source": [
    "# Dropping na values \n",
    "#(may want to be cautious if pulling in pool or garage data as these will have multiple null values)\n",
    "df=df.dropna()\n",
    "df.info()"
   ]
  },
  {
   "cell_type": "code",
   "execution_count": 15,
   "id": "27d8b4fe",
   "metadata": {
    "ExecuteTime": {
     "end_time": "2022-07-18T18:19:12.354553Z",
     "start_time": "2022-07-18T18:19:12.346774Z"
    }
   },
   "outputs": [
    {
     "name": "stdout",
     "output_type": "stream",
     "text": [
      "<class 'pandas.core.frame.DataFrame'>\n",
      "Int64Index: 52315 entries, 0 to 52440\n",
      "Data columns (total 8 columns):\n",
      " #   Column       Non-Null Count  Dtype  \n",
      "---  ------       --------------  -----  \n",
      " 0   parcel       52315 non-null  int64  \n",
      " 1   bedrooms     52315 non-null  float64\n",
      " 2   bathrooms    52315 non-null  float64\n",
      " 3   square_feet  52315 non-null  float64\n",
      " 4   tax_value    52315 non-null  float64\n",
      " 5   year         52315 non-null  float64\n",
      " 6   tax_amount   52315 non-null  float64\n",
      " 7   fed_code     52315 non-null  float64\n",
      "dtypes: float64(7), int64(1)\n",
      "memory usage: 3.6 MB\n"
     ]
    }
   ],
   "source": [
    "# Replace a whitespace sequence or empty with a NaN value and reassign this manipulation to df.\n",
    "\n",
    "df = df.replace(r'^\\s*$', np.nan, regex=True)\n",
    "df.info()"
   ]
  },
  {
   "cell_type": "code",
   "execution_count": 18,
   "id": "05acef46",
   "metadata": {
    "ExecuteTime": {
     "end_time": "2022-07-18T18:19:12.366547Z",
     "start_time": "2022-07-18T18:19:12.363869Z"
    }
   },
   "outputs": [
    {
     "data": {
      "text/plain": [
       "Index(['parcel', 'bedrooms', 'bathrooms', 'square_feet', 'tax_value', 'year',\n",
       "       'tax_amount', 'fed_code'],\n",
       "      dtype='object')"
      ]
     },
     "execution_count": 18,
     "metadata": {},
     "output_type": "execute_result"
    }
   ],
   "source": [
    "# Not finding other values... why non_null values are not equal among data\n",
    "df.columns"
   ]
  },
  {
   "cell_type": "code",
   "execution_count": 23,
   "id": "5f30528c",
   "metadata": {
    "ExecuteTime": {
     "end_time": "2022-07-18T18:19:45.658802Z",
     "start_time": "2022-07-18T18:19:45.521146Z"
    }
   },
   "outputs": [
    {
     "data": {
      "image/png": "[encoded data removed]",
      "text/plain": [
       "<Figure size 1152x216 with 2 Axes>"
      ]
     },
     "metadata": {
      "needs_background": "light"
     },
     "output_type": "display_data"
    }
   ],
   "source": [
    "plt.figure(figsize = (16,3))\n",
    "\n",
    "# list of Columns\n",
    "cols = ['bedrooms', 'bathrooms']\n",
    "\n",
    "for i, col in enumerate(cols):\n",
    "    \n",
    "    # i starts at 0, but plot nos should start at 1\n",
    "    plot_number = i + 1 \n",
    "    \n",
    "    # Create subplot.\n",
    "    plt.subplot(1,2, plot_number)\n",
    "    \n",
    "    # Title with column name.\n",
    "    plt.title(col)\n",
    "    \n",
    "    # Display histogram for column.\n",
    "    df[col].hist(bins=10, edgecolor='black')\n",
    "    \n",
    "    # Hide gridlines.\n",
    "    plt.grid(False)\n",
    "        "
   ]
  },
  {
   "cell_type": "code",
   "execution_count": 31,
   "id": "29f21660",
   "metadata": {
    "ExecuteTime": {
     "end_time": "2022-07-18T18:49:06.308610Z",
     "start_time": "2022-07-18T18:49:06.213257Z"
    }
   },
   "outputs": [
    {
     "data": {
      "text/plain": [
       "Text(0.5, 1.0, 'Tax value capped $1000000')"
      ]
     },
     "execution_count": 31,
     "metadata": {},
     "output_type": "execute_result"
    },
    {
     "data": {
      "image/png": "[encoded data removed]",
      "text/plain": [
       "<Figure size 432x288 with 1 Axes>"
      ]
     },
     "metadata": {
      "needs_background": "light"
     },
     "output_type": "display_data"
    }
   ],
   "source": [
    "\n",
    "cap = 1000000\n",
    "(df.tax_value>cap).sum()\n",
    "df[df.tax_value<cap].tax_value.hist()\n",
    "plt.title(f'Tax value capped ${cap}')"
   ]
  },
  {
   "cell_type": "code",
   "execution_count": 32,
   "id": "1d8dde8f",
   "metadata": {
    "ExecuteTime": {
     "end_time": "2022-07-18T18:49:49.209487Z",
     "start_time": "2022-07-18T18:49:49.119645Z"
    }
   },
   "outputs": [
    {
     "data": {
      "text/plain": [
       "Text(0.5, 1.0, 'Tax amount capped 50000')"
      ]
     },
     "execution_count": 32,
     "metadata": {},
     "output_type": "execute_result"
    },
    {
     "data": {
      "image/png": "[encoded data removed]",
      "text/plain": [
       "<Figure size 432x288 with 1 Axes>"
      ]
     },
     "metadata": {
      "needs_background": "light"
     },
     "output_type": "display_data"
    }
   ],
   "source": [
    "cap = 50000\n",
    "(df.tax_amount>cap).sum()\n",
    "df[df.tax_amount<cap].tax_amount.hist()\n",
    "plt.title(f'Tax amount capped {cap}')"
   ]
  },
  {
   "cell_type": "code",
   "execution_count": 21,
   "id": "a120c016",
   "metadata": {
    "ExecuteTime": {
     "end_time": "2022-07-18T18:19:12.643097Z",
     "start_time": "2022-07-18T18:19:12.554131Z"
    }
   },
   "outputs": [
    {
     "data": {
      "image/png": "[encoded data removed]",
      "text/plain": [
       "<Figure size 1152x216 with 2 Axes>"
      ]
     },
     "metadata": {
      "needs_background": "light"
     },
     "output_type": "display_data"
    }
   ],
   "source": [
    "plt.figure(figsize = (16,3))\n",
    "\n",
    "# list of Columns\n",
    "cols = ['square_feet', 'year']\n",
    "\n",
    "for i, col in enumerate(cols):\n",
    "    \n",
    "    # i starts at 0, but plot nos should start at 1\n",
    "    plot_number = i + 1 \n",
    "    \n",
    "    # Create subplot.\n",
    "    plt.subplot(1,2, plot_number)\n",
    "    \n",
    "    # Title with column name.\n",
    "    plt.title(col)\n",
    "    \n",
    "    # Display histogram for column.\n",
    "    df[col].hist(bins=10, edgecolor='black')\n",
    "    \n",
    "    # Hide gridlines.\n",
    "    plt.grid(False)"
   ]
  },
  {
   "cell_type": "code",
   "execution_count": 35,
   "id": "acf662e7",
   "metadata": {
    "ExecuteTime": {
     "end_time": "2022-07-18T19:08:48.332034Z",
     "start_time": "2022-07-18T19:08:48.139217Z"
    }
   },
   "outputs": [
    {
     "data": {
      "image/png": "[encoded data removed]",
      "text/plain": [
       "<Figure size 1440x360 with 1 Axes>"
      ]
     },
     "metadata": {
      "needs_background": "light"
     },
     "output_type": "display_data"
    }
   ],
   "source": [
    "plt.figure(figsize=(20,5))\n",
    "ax = sns.boxplot(data=df, orient='h')\n",
    "plt.show()"
   ]
  },
  {
   "cell_type": "code",
   "execution_count": 36,
   "id": "f26f3745",
   "metadata": {
    "ExecuteTime": {
     "end_time": "2022-07-18T19:10:33.030546Z",
     "start_time": "2022-07-18T19:10:32.732312Z"
    }
   },
   "outputs": [
    {
     "data": {
      "image/png": "[encoded data removed]",
      "text/plain": [
       "<Figure size 1800x360 with 6 Axes>"
      ]
     },
     "metadata": {
      "needs_background": "light"
     },
     "output_type": "display_data"
    }
   ],
   "source": [
    "# Visualize Boxplot/Skew\n",
    "\n",
    "\n",
    "# list of numeric columns\n",
    "cols = [col for col in df.columns if col not in ['fed_code', 'parcel']]\n",
    "\n",
    "# figsize width to height\n",
    "plt.figure(figsize=(25, 5))\n",
    "\n",
    "# loop to iterate over columns\n",
    "for i, col in enumerate(cols):\n",
    "        \n",
    "        # i starts at 0 but plot numbers should start at 1\n",
    "        plot_number = i + 1\n",
    "        \n",
    "        # create subplot\n",
    "        plt.subplot(1, len(cols), plot_number)\n",
    "        \n",
    "        # create title with the column name\n",
    "        plt.title(col)\n",
    "        \n",
    "        # display a histogram for each of the columns            \n",
    "        sns.boxplot(df[col])\n",
    "        \n",
    "        # Hide gridlines.\n",
    "        plt.grid(False)\n",
    "         \n",
    "      \n",
    "    \n",
    "plt.tight_layout()\n",
    "plt.show()"
   ]
  },
  {
   "cell_type": "code",
   "execution_count": 37,
   "id": "7f16e326",
   "metadata": {
    "ExecuteTime": {
     "end_time": "2022-07-18T19:13:39.018345Z",
     "start_time": "2022-07-18T19:13:38.874471Z"
    }
   },
   "outputs": [
    {
     "data": {
      "text/plain": [
       "Text(0.5, 1.0, 'Square feet distribution for those under 5000 sq ft: Fairly normal ')"
      ]
     },
     "execution_count": 37,
     "metadata": {},
     "output_type": "execute_result"
    },
    {
     "data": {
      "image/png": "[encoded data removed]",
      "text/plain": [
       "<Figure size 432x288 with 1 Axes>"
      ]
     },
     "metadata": {
      "needs_background": "light"
     },
     "output_type": "display_data"
    }
   ],
   "source": [
    "threshold = 5000\n",
    "df[df.square_feet<threshold].square_feet.hist()\n",
    "plt.title(f\"Square feet distribution for those under {threshold} sq ft: Fairly normal \")"
   ]
  },
  {
   "cell_type": "markdown",
   "id": "3f98a09d",
   "metadata": {},
   "source": [
    "*** Takeaway ***\n",
    "\n",
    "- Possible outliers in data based on tax value/amount\n",
    "- May want to assess if properties built prior to 1900 are worth excluding\n",
    "- Possible outliers with beds/baths\n",
    "- Possible sq ft threshold min for consideration?"
   ]
  },
  {
   "cell_type": "code",
   "execution_count": null,
   "id": "75407355",
   "metadata": {},
   "outputs": [],
   "source": []
  }
 ],
 "metadata": {
  "kernelspec": {
   "display_name": "Python 3 (ipykernel)",
   "language": "python",
   "name": "python3"
  },
  "language_info": {
   "codemirror_mode": {
    "name": "ipython",
    "version": 3
   },
   "file_extension": ".py",
   "mimetype": "text/x-python",
   "name": "python",
   "nbconvert_exporter": "python",
   "pygments_lexer": "ipython3",
   "version": "3.9.13"
  }
 },
 "nbformat": 4,
 "nbformat_minor": 5
}
