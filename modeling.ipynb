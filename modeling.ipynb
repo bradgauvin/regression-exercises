{
 "cells": [
  {
   "cell_type": "code",
   "execution_count": 1,
   "id": "a98d7b3c",
   "metadata": {
    "ExecuteTime": {
     "end_time": "2022-07-22T20:20:02.748324Z",
     "start_time": "2022-07-22T20:20:01.550452Z"
    }
   },
   "outputs": [],
   "source": [
    "from pydataset import data\n",
    "from wrangle import split_data, scale_data\n",
    "import pandas as pd\n",
    "import matplotlib.pyplot as plt\n",
    "import wrangle\n",
    "\n",
    "from sklearn.linear_model import LinearRegression, LassoLars, TweedieRegressor\n",
    "from sklearn.preprocessing import PolynomialFeatures, MinMaxScaler\n",
    "from sklearn.metrics import mean_squared_error\n",
    "import sklearn.preprocessing\n",
    "\n",
    "import warnings\n",
    "warnings.filterwarnings(\"ignore\")\n"
   ]
  },
  {
   "cell_type": "code",
   "execution_count": 2,
   "id": "45c59762",
   "metadata": {
    "ExecuteTime": {
     "end_time": "2022-07-22T20:20:02.987617Z",
     "start_time": "2022-07-22T20:20:02.749655Z"
    }
   },
   "outputs": [
    {
     "name": "stdout",
     "output_type": "stream",
     "text": [
      "Using cached csv\n"
     ]
    }
   ],
   "source": [
    "df=wrangle.wrangle_zillow()"
   ]
  },
  {
   "cell_type": "code",
   "execution_count": 3,
   "id": "b6562914",
   "metadata": {
    "ExecuteTime": {
     "end_time": "2022-07-22T20:20:03.001036Z",
     "start_time": "2022-07-22T20:20:02.988561Z"
    }
   },
   "outputs": [
    {
     "data": {
      "text/html": [
       "<div>\n",
       "<style scoped>\n",
       "    .dataframe tbody tr th:only-of-type {\n",
       "        vertical-align: middle;\n",
       "    }\n",
       "\n",
       "    .dataframe tbody tr th {\n",
       "        vertical-align: top;\n",
       "    }\n",
       "\n",
       "    .dataframe thead th {\n",
       "        text-align: right;\n",
       "    }\n",
       "</style>\n",
       "<table border=\"1\" class=\"dataframe\">\n",
       "  <thead>\n",
       "    <tr style=\"text-align: right;\">\n",
       "      <th></th>\n",
       "      <th>bedrooms</th>\n",
       "      <th>bathrooms</th>\n",
       "      <th>square_feet</th>\n",
       "      <th>garage</th>\n",
       "      <th>pool</th>\n",
       "      <th>lot_size</th>\n",
       "      <th>zip</th>\n",
       "      <th>year_built</th>\n",
       "      <th>tax_value</th>\n",
       "      <th>tax_amount</th>\n",
       "      <th>fed_code</th>\n",
       "      <th>age</th>\n",
       "      <th>living_space</th>\n",
       "      <th>county</th>\n",
       "    </tr>\n",
       "    <tr>\n",
       "      <th>parcel</th>\n",
       "      <th></th>\n",
       "      <th></th>\n",
       "      <th></th>\n",
       "      <th></th>\n",
       "      <th></th>\n",
       "      <th></th>\n",
       "      <th></th>\n",
       "      <th></th>\n",
       "      <th></th>\n",
       "      <th></th>\n",
       "      <th></th>\n",
       "      <th></th>\n",
       "      <th></th>\n",
       "      <th></th>\n",
       "    </tr>\n",
       "  </thead>\n",
       "  <tbody>\n",
       "    <tr>\n",
       "      <th>14297519</th>\n",
       "      <td>4</td>\n",
       "      <td>3</td>\n",
       "      <td>3100</td>\n",
       "      <td>2</td>\n",
       "      <td>0</td>\n",
       "      <td>4506</td>\n",
       "      <td>96978</td>\n",
       "      <td>1998</td>\n",
       "      <td>1023282</td>\n",
       "      <td>11013.72</td>\n",
       "      <td>6059</td>\n",
       "      <td>19</td>\n",
       "      <td>2180</td>\n",
       "      <td>Orange</td>\n",
       "    </tr>\n",
       "    <tr>\n",
       "      <th>17052889</th>\n",
       "      <td>2</td>\n",
       "      <td>1</td>\n",
       "      <td>1465</td>\n",
       "      <td>1</td>\n",
       "      <td>0</td>\n",
       "      <td>12647</td>\n",
       "      <td>97099</td>\n",
       "      <td>1967</td>\n",
       "      <td>464000</td>\n",
       "      <td>5672.48</td>\n",
       "      <td>6111</td>\n",
       "      <td>50</td>\n",
       "      <td>1025</td>\n",
       "      <td>Ventura</td>\n",
       "    </tr>\n",
       "    <tr>\n",
       "      <th>14186244</th>\n",
       "      <td>3</td>\n",
       "      <td>2</td>\n",
       "      <td>1243</td>\n",
       "      <td>2</td>\n",
       "      <td>1</td>\n",
       "      <td>8432</td>\n",
       "      <td>97078</td>\n",
       "      <td>1962</td>\n",
       "      <td>564778</td>\n",
       "      <td>6488.30</td>\n",
       "      <td>6059</td>\n",
       "      <td>55</td>\n",
       "      <td>563</td>\n",
       "      <td>Orange</td>\n",
       "    </tr>\n",
       "    <tr>\n",
       "      <th>12177905</th>\n",
       "      <td>4</td>\n",
       "      <td>3</td>\n",
       "      <td>2376</td>\n",
       "      <td>0</td>\n",
       "      <td>1</td>\n",
       "      <td>13038</td>\n",
       "      <td>96330</td>\n",
       "      <td>1970</td>\n",
       "      <td>145143</td>\n",
       "      <td>1777.51</td>\n",
       "      <td>6037</td>\n",
       "      <td>47</td>\n",
       "      <td>1456</td>\n",
       "      <td>LA</td>\n",
       "    </tr>\n",
       "    <tr>\n",
       "      <th>12095076</th>\n",
       "      <td>4</td>\n",
       "      <td>3</td>\n",
       "      <td>2962</td>\n",
       "      <td>0</td>\n",
       "      <td>1</td>\n",
       "      <td>63000</td>\n",
       "      <td>96293</td>\n",
       "      <td>1950</td>\n",
       "      <td>773303</td>\n",
       "      <td>9516.26</td>\n",
       "      <td>6037</td>\n",
       "      <td>67</td>\n",
       "      <td>2042</td>\n",
       "      <td>LA</td>\n",
       "    </tr>\n",
       "  </tbody>\n",
       "</table>\n",
       "</div>"
      ],
      "text/plain": [
       "          bedrooms  bathrooms  square_feet  garage  pool  lot_size    zip  \\\n",
       "parcel                                                                      \n",
       "14297519         4          3         3100       2     0      4506  96978   \n",
       "17052889         2          1         1465       1     0     12647  97099   \n",
       "14186244         3          2         1243       2     1      8432  97078   \n",
       "12177905         4          3         2376       0     1     13038  96330   \n",
       "12095076         4          3         2962       0     1     63000  96293   \n",
       "\n",
       "          year_built  tax_value  tax_amount  fed_code  age  living_space  \\\n",
       "parcel                                                                     \n",
       "14297519        1998    1023282    11013.72      6059   19          2180   \n",
       "17052889        1967     464000     5672.48      6111   50          1025   \n",
       "14186244        1962     564778     6488.30      6059   55           563   \n",
       "12177905        1970     145143     1777.51      6037   47          1456   \n",
       "12095076        1950     773303     9516.26      6037   67          2042   \n",
       "\n",
       "           county  \n",
       "parcel             \n",
       "14297519   Orange  \n",
       "17052889  Ventura  \n",
       "14186244   Orange  \n",
       "12177905       LA  \n",
       "12095076       LA  "
      ]
     },
     "execution_count": 3,
     "metadata": {},
     "output_type": "execute_result"
    }
   ],
   "source": [
    "df.head()"
   ]
  },
  {
   "cell_type": "code",
   "execution_count": 4,
   "id": "7b896894",
   "metadata": {
    "ExecuteTime": {
     "end_time": "2022-07-22T20:20:03.009919Z",
     "start_time": "2022-07-22T20:20:03.002483Z"
    }
   },
   "outputs": [
    {
     "data": {
      "text/html": [
       "<div>\n",
       "<style scoped>\n",
       "    .dataframe tbody tr th:only-of-type {\n",
       "        vertical-align: middle;\n",
       "    }\n",
       "\n",
       "    .dataframe tbody tr th {\n",
       "        vertical-align: top;\n",
       "    }\n",
       "\n",
       "    .dataframe thead th {\n",
       "        text-align: right;\n",
       "    }\n",
       "</style>\n",
       "<table border=\"1\" class=\"dataframe\">\n",
       "  <thead>\n",
       "    <tr style=\"text-align: right;\">\n",
       "      <th></th>\n",
       "      <th>bedrooms</th>\n",
       "      <th>bathrooms</th>\n",
       "      <th>square_feet</th>\n",
       "      <th>garage</th>\n",
       "      <th>pool</th>\n",
       "      <th>lot_size</th>\n",
       "      <th>year_built</th>\n",
       "      <th>tax_value</th>\n",
       "      <th>tax_amount</th>\n",
       "      <th>age</th>\n",
       "      <th>living_space</th>\n",
       "      <th>county</th>\n",
       "    </tr>\n",
       "    <tr>\n",
       "      <th>parcel</th>\n",
       "      <th></th>\n",
       "      <th></th>\n",
       "      <th></th>\n",
       "      <th></th>\n",
       "      <th></th>\n",
       "      <th></th>\n",
       "      <th></th>\n",
       "      <th></th>\n",
       "      <th></th>\n",
       "      <th></th>\n",
       "      <th></th>\n",
       "      <th></th>\n",
       "    </tr>\n",
       "  </thead>\n",
       "  <tbody>\n",
       "    <tr>\n",
       "      <th>14297519</th>\n",
       "      <td>4</td>\n",
       "      <td>3</td>\n",
       "      <td>3100</td>\n",
       "      <td>2</td>\n",
       "      <td>0</td>\n",
       "      <td>4506</td>\n",
       "      <td>1998</td>\n",
       "      <td>1023282</td>\n",
       "      <td>11013.72</td>\n",
       "      <td>19</td>\n",
       "      <td>2180</td>\n",
       "      <td>Orange</td>\n",
       "    </tr>\n",
       "    <tr>\n",
       "      <th>17052889</th>\n",
       "      <td>2</td>\n",
       "      <td>1</td>\n",
       "      <td>1465</td>\n",
       "      <td>1</td>\n",
       "      <td>0</td>\n",
       "      <td>12647</td>\n",
       "      <td>1967</td>\n",
       "      <td>464000</td>\n",
       "      <td>5672.48</td>\n",
       "      <td>50</td>\n",
       "      <td>1025</td>\n",
       "      <td>Ventura</td>\n",
       "    </tr>\n",
       "    <tr>\n",
       "      <th>14186244</th>\n",
       "      <td>3</td>\n",
       "      <td>2</td>\n",
       "      <td>1243</td>\n",
       "      <td>2</td>\n",
       "      <td>1</td>\n",
       "      <td>8432</td>\n",
       "      <td>1962</td>\n",
       "      <td>564778</td>\n",
       "      <td>6488.30</td>\n",
       "      <td>55</td>\n",
       "      <td>563</td>\n",
       "      <td>Orange</td>\n",
       "    </tr>\n",
       "    <tr>\n",
       "      <th>12177905</th>\n",
       "      <td>4</td>\n",
       "      <td>3</td>\n",
       "      <td>2376</td>\n",
       "      <td>0</td>\n",
       "      <td>1</td>\n",
       "      <td>13038</td>\n",
       "      <td>1970</td>\n",
       "      <td>145143</td>\n",
       "      <td>1777.51</td>\n",
       "      <td>47</td>\n",
       "      <td>1456</td>\n",
       "      <td>LA</td>\n",
       "    </tr>\n",
       "    <tr>\n",
       "      <th>12095076</th>\n",
       "      <td>4</td>\n",
       "      <td>3</td>\n",
       "      <td>2962</td>\n",
       "      <td>0</td>\n",
       "      <td>1</td>\n",
       "      <td>63000</td>\n",
       "      <td>1950</td>\n",
       "      <td>773303</td>\n",
       "      <td>9516.26</td>\n",
       "      <td>67</td>\n",
       "      <td>2042</td>\n",
       "      <td>LA</td>\n",
       "    </tr>\n",
       "    <tr>\n",
       "      <th>...</th>\n",
       "      <td>...</td>\n",
       "      <td>...</td>\n",
       "      <td>...</td>\n",
       "      <td>...</td>\n",
       "      <td>...</td>\n",
       "      <td>...</td>\n",
       "      <td>...</td>\n",
       "      <td>...</td>\n",
       "      <td>...</td>\n",
       "      <td>...</td>\n",
       "      <td>...</td>\n",
       "      <td>...</td>\n",
       "    </tr>\n",
       "    <tr>\n",
       "      <th>11000655</th>\n",
       "      <td>2</td>\n",
       "      <td>2</td>\n",
       "      <td>1286</td>\n",
       "      <td>0</td>\n",
       "      <td>0</td>\n",
       "      <td>47405</td>\n",
       "      <td>1940</td>\n",
       "      <td>354621</td>\n",
       "      <td>4478.43</td>\n",
       "      <td>77</td>\n",
       "      <td>806</td>\n",
       "      <td>LA</td>\n",
       "    </tr>\n",
       "    <tr>\n",
       "      <th>17239384</th>\n",
       "      <td>4</td>\n",
       "      <td>2</td>\n",
       "      <td>1612</td>\n",
       "      <td>2</td>\n",
       "      <td>0</td>\n",
       "      <td>12105</td>\n",
       "      <td>1964</td>\n",
       "      <td>67205</td>\n",
       "      <td>1107.48</td>\n",
       "      <td>53</td>\n",
       "      <td>732</td>\n",
       "      <td>Ventura</td>\n",
       "    </tr>\n",
       "    <tr>\n",
       "      <th>12773139</th>\n",
       "      <td>3</td>\n",
       "      <td>1</td>\n",
       "      <td>1032</td>\n",
       "      <td>0</td>\n",
       "      <td>0</td>\n",
       "      <td>5074</td>\n",
       "      <td>1954</td>\n",
       "      <td>49546</td>\n",
       "      <td>876.43</td>\n",
       "      <td>63</td>\n",
       "      <td>392</td>\n",
       "      <td>LA</td>\n",
       "    </tr>\n",
       "    <tr>\n",
       "      <th>12826780</th>\n",
       "      <td>3</td>\n",
       "      <td>2</td>\n",
       "      <td>1762</td>\n",
       "      <td>0</td>\n",
       "      <td>0</td>\n",
       "      <td>6347</td>\n",
       "      <td>1955</td>\n",
       "      <td>522000</td>\n",
       "      <td>6317.15</td>\n",
       "      <td>62</td>\n",
       "      <td>1082</td>\n",
       "      <td>LA</td>\n",
       "    </tr>\n",
       "    <tr>\n",
       "      <th>13083743</th>\n",
       "      <td>3</td>\n",
       "      <td>2</td>\n",
       "      <td>1050</td>\n",
       "      <td>0</td>\n",
       "      <td>0</td>\n",
       "      <td>5927</td>\n",
       "      <td>1960</td>\n",
       "      <td>259334</td>\n",
       "      <td>3345.78</td>\n",
       "      <td>57</td>\n",
       "      <td>370</td>\n",
       "      <td>LA</td>\n",
       "    </tr>\n",
       "  </tbody>\n",
       "</table>\n",
       "<p>50437 rows × 12 columns</p>\n",
       "</div>"
      ],
      "text/plain": [
       "          bedrooms  bathrooms  square_feet  garage  pool  lot_size  \\\n",
       "parcel                                                               \n",
       "14297519         4          3         3100       2     0      4506   \n",
       "17052889         2          1         1465       1     0     12647   \n",
       "14186244         3          2         1243       2     1      8432   \n",
       "12177905         4          3         2376       0     1     13038   \n",
       "12095076         4          3         2962       0     1     63000   \n",
       "...            ...        ...          ...     ...   ...       ...   \n",
       "11000655         2          2         1286       0     0     47405   \n",
       "17239384         4          2         1612       2     0     12105   \n",
       "12773139         3          1         1032       0     0      5074   \n",
       "12826780         3          2         1762       0     0      6347   \n",
       "13083743         3          2         1050       0     0      5927   \n",
       "\n",
       "          year_built  tax_value  tax_amount  age  living_space   county  \n",
       "parcel                                                                   \n",
       "14297519        1998    1023282    11013.72   19          2180   Orange  \n",
       "17052889        1967     464000     5672.48   50          1025  Ventura  \n",
       "14186244        1962     564778     6488.30   55           563   Orange  \n",
       "12177905        1970     145143     1777.51   47          1456       LA  \n",
       "12095076        1950     773303     9516.26   67          2042       LA  \n",
       "...              ...        ...         ...  ...           ...      ...  \n",
       "11000655        1940     354621     4478.43   77           806       LA  \n",
       "17239384        1964      67205     1107.48   53           732  Ventura  \n",
       "12773139        1954      49546      876.43   63           392       LA  \n",
       "12826780        1955     522000     6317.15   62          1082       LA  \n",
       "13083743        1960     259334     3345.78   57           370       LA  \n",
       "\n",
       "[50437 rows x 12 columns]"
      ]
     },
     "execution_count": 4,
     "metadata": {},
     "output_type": "execute_result"
    }
   ],
   "source": [
    "#Dropping zip and fed_code\n",
    "df= df.drop(columns=['zip', 'fed_code'])\n",
    "df"
   ]
  },
  {
   "cell_type": "markdown",
   "id": "f19411f4",
   "metadata": {},
   "source": [
    "#### 1. Select a dataset with a continuous target variable. = Zillow \n",
    " - Done"
   ]
  },
  {
   "cell_type": "markdown",
   "id": "e26951b8",
   "metadata": {},
   "source": [
    "#### 2. Be sure your data is prepared (no missing values, numeric datatypes) and split into samples."
   ]
  },
  {
   "cell_type": "code",
   "execution_count": 5,
   "id": "4a7d81d6",
   "metadata": {
    "ExecuteTime": {
     "end_time": "2022-07-22T20:20:03.026445Z",
     "start_time": "2022-07-22T20:20:03.010674Z"
    }
   },
   "outputs": [
    {
     "name": "stdout",
     "output_type": "stream",
     "text": [
      "Data split as follows: Train 56.00%, Validate 24.00%, Test 20.00%\n"
     ]
    }
   ],
   "source": [
    "# splitting data\n",
    "train, validate, test = split_data(df)"
   ]
  },
  {
   "cell_type": "code",
   "execution_count": 6,
   "id": "3233a07c",
   "metadata": {
    "ExecuteTime": {
     "end_time": "2022-07-22T20:20:03.030299Z",
     "start_time": "2022-07-22T20:20:03.027623Z"
    }
   },
   "outputs": [
    {
     "data": {
      "text/plain": [
       "Index(['bedrooms', 'bathrooms', 'square_feet', 'garage', 'pool', 'lot_size',\n",
       "       'year_built', 'tax_value', 'tax_amount', 'age', 'living_space',\n",
       "       'county'],\n",
       "      dtype='object')"
      ]
     },
     "execution_count": 6,
     "metadata": {},
     "output_type": "execute_result"
    }
   ],
   "source": [
    "#Looking at options\n",
    "train.columns"
   ]
  },
  {
   "cell_type": "code",
   "execution_count": 7,
   "id": "80b8f056",
   "metadata": {
    "ExecuteTime": {
     "end_time": "2022-07-22T20:20:03.044271Z",
     "start_time": "2022-07-22T20:20:03.031153Z"
    }
   },
   "outputs": [
    {
     "data": {
      "text/html": [
       "<div>\n",
       "<style scoped>\n",
       "    .dataframe tbody tr th:only-of-type {\n",
       "        vertical-align: middle;\n",
       "    }\n",
       "\n",
       "    .dataframe tbody tr th {\n",
       "        vertical-align: top;\n",
       "    }\n",
       "\n",
       "    .dataframe thead th {\n",
       "        text-align: right;\n",
       "    }\n",
       "</style>\n",
       "<table border=\"1\" class=\"dataframe\">\n",
       "  <thead>\n",
       "    <tr style=\"text-align: right;\">\n",
       "      <th></th>\n",
       "      <th>bedrooms</th>\n",
       "      <th>bathrooms</th>\n",
       "      <th>square_feet</th>\n",
       "      <th>garage</th>\n",
       "      <th>pool</th>\n",
       "      <th>lot_size</th>\n",
       "      <th>year_built</th>\n",
       "      <th>tax_value</th>\n",
       "      <th>tax_amount</th>\n",
       "      <th>age</th>\n",
       "      <th>living_space</th>\n",
       "      <th>county</th>\n",
       "      <th>square_feet_scaled</th>\n",
       "      <th>age_scaled</th>\n",
       "      <th>lot_size_scaled</th>\n",
       "      <th>living_space_scaled</th>\n",
       "    </tr>\n",
       "    <tr>\n",
       "      <th>parcel</th>\n",
       "      <th></th>\n",
       "      <th></th>\n",
       "      <th></th>\n",
       "      <th></th>\n",
       "      <th></th>\n",
       "      <th></th>\n",
       "      <th></th>\n",
       "      <th></th>\n",
       "      <th></th>\n",
       "      <th></th>\n",
       "      <th></th>\n",
       "      <th></th>\n",
       "      <th></th>\n",
       "      <th></th>\n",
       "      <th></th>\n",
       "      <th></th>\n",
       "    </tr>\n",
       "  </thead>\n",
       "  <tbody>\n",
       "    <tr>\n",
       "      <th>12156933</th>\n",
       "      <td>3</td>\n",
       "      <td>2</td>\n",
       "      <td>1204</td>\n",
       "      <td>0</td>\n",
       "      <td>0</td>\n",
       "      <td>9543</td>\n",
       "      <td>1947</td>\n",
       "      <td>1036123</td>\n",
       "      <td>12474.35</td>\n",
       "      <td>70</td>\n",
       "      <td>524</td>\n",
       "      <td>LA</td>\n",
       "      <td>0.126782</td>\n",
       "      <td>0.514925</td>\n",
       "      <td>0.001335</td>\n",
       "      <td>0.179193</td>\n",
       "    </tr>\n",
       "    <tr>\n",
       "      <th>11128434</th>\n",
       "      <td>4</td>\n",
       "      <td>3</td>\n",
       "      <td>2552</td>\n",
       "      <td>0</td>\n",
       "      <td>0</td>\n",
       "      <td>10526</td>\n",
       "      <td>1969</td>\n",
       "      <td>686553</td>\n",
       "      <td>8503.15</td>\n",
       "      <td>48</td>\n",
       "      <td>1632</td>\n",
       "      <td>LA</td>\n",
       "      <td>0.285613</td>\n",
       "      <td>0.350746</td>\n",
       "      <td>0.001476</td>\n",
       "      <td>0.315932</td>\n",
       "    </tr>\n",
       "    <tr>\n",
       "      <th>11183730</th>\n",
       "      <td>4</td>\n",
       "      <td>3</td>\n",
       "      <td>2434</td>\n",
       "      <td>0</td>\n",
       "      <td>0</td>\n",
       "      <td>6640</td>\n",
       "      <td>1990</td>\n",
       "      <td>288721</td>\n",
       "      <td>4406.80</td>\n",
       "      <td>27</td>\n",
       "      <td>1514</td>\n",
       "      <td>LA</td>\n",
       "      <td>0.271710</td>\n",
       "      <td>0.194030</td>\n",
       "      <td>0.000919</td>\n",
       "      <td>0.301370</td>\n",
       "    </tr>\n",
       "    <tr>\n",
       "      <th>14414960</th>\n",
       "      <td>4</td>\n",
       "      <td>3</td>\n",
       "      <td>3283</td>\n",
       "      <td>2</td>\n",
       "      <td>0</td>\n",
       "      <td>9380</td>\n",
       "      <td>1988</td>\n",
       "      <td>699808</td>\n",
       "      <td>7029.44</td>\n",
       "      <td>29</td>\n",
       "      <td>2363</td>\n",
       "      <td>Orange</td>\n",
       "      <td>0.371745</td>\n",
       "      <td>0.208955</td>\n",
       "      <td>0.001312</td>\n",
       "      <td>0.406146</td>\n",
       "    </tr>\n",
       "    <tr>\n",
       "      <th>11515617</th>\n",
       "      <td>3</td>\n",
       "      <td>3</td>\n",
       "      <td>2502</td>\n",
       "      <td>0</td>\n",
       "      <td>0</td>\n",
       "      <td>12238</td>\n",
       "      <td>1977</td>\n",
       "      <td>211710</td>\n",
       "      <td>3067.45</td>\n",
       "      <td>40</td>\n",
       "      <td>1782</td>\n",
       "      <td>LA</td>\n",
       "      <td>0.279722</td>\n",
       "      <td>0.291045</td>\n",
       "      <td>0.001722</td>\n",
       "      <td>0.334444</td>\n",
       "    </tr>\n",
       "    <tr>\n",
       "      <th>...</th>\n",
       "      <td>...</td>\n",
       "      <td>...</td>\n",
       "      <td>...</td>\n",
       "      <td>...</td>\n",
       "      <td>...</td>\n",
       "      <td>...</td>\n",
       "      <td>...</td>\n",
       "      <td>...</td>\n",
       "      <td>...</td>\n",
       "      <td>...</td>\n",
       "      <td>...</td>\n",
       "      <td>...</td>\n",
       "      <td>...</td>\n",
       "      <td>...</td>\n",
       "      <td>...</td>\n",
       "      <td>...</td>\n",
       "    </tr>\n",
       "    <tr>\n",
       "      <th>12021626</th>\n",
       "      <td>2</td>\n",
       "      <td>2</td>\n",
       "      <td>2408</td>\n",
       "      <td>0</td>\n",
       "      <td>1</td>\n",
       "      <td>7215</td>\n",
       "      <td>1942</td>\n",
       "      <td>153575</td>\n",
       "      <td>2118.66</td>\n",
       "      <td>75</td>\n",
       "      <td>1928</td>\n",
       "      <td>LA</td>\n",
       "      <td>0.268646</td>\n",
       "      <td>0.552239</td>\n",
       "      <td>0.001001</td>\n",
       "      <td>0.352462</td>\n",
       "    </tr>\n",
       "    <tr>\n",
       "      <th>11123105</th>\n",
       "      <td>4</td>\n",
       "      <td>3</td>\n",
       "      <td>1927</td>\n",
       "      <td>0</td>\n",
       "      <td>1</td>\n",
       "      <td>6451</td>\n",
       "      <td>1997</td>\n",
       "      <td>349808</td>\n",
       "      <td>5389.05</td>\n",
       "      <td>20</td>\n",
       "      <td>1007</td>\n",
       "      <td>LA</td>\n",
       "      <td>0.211971</td>\n",
       "      <td>0.141791</td>\n",
       "      <td>0.000892</td>\n",
       "      <td>0.238800</td>\n",
       "    </tr>\n",
       "    <tr>\n",
       "      <th>13928477</th>\n",
       "      <td>3</td>\n",
       "      <td>2</td>\n",
       "      <td>2360</td>\n",
       "      <td>2</td>\n",
       "      <td>1</td>\n",
       "      <td>7700</td>\n",
       "      <td>1960</td>\n",
       "      <td>359023</td>\n",
       "      <td>4514.40</td>\n",
       "      <td>57</td>\n",
       "      <td>1680</td>\n",
       "      <td>Orange</td>\n",
       "      <td>0.262990</td>\n",
       "      <td>0.417910</td>\n",
       "      <td>0.001071</td>\n",
       "      <td>0.321856</td>\n",
       "    </tr>\n",
       "    <tr>\n",
       "      <th>12867887</th>\n",
       "      <td>4</td>\n",
       "      <td>2</td>\n",
       "      <td>1656</td>\n",
       "      <td>0</td>\n",
       "      <td>0</td>\n",
       "      <td>8129</td>\n",
       "      <td>1959</td>\n",
       "      <td>171483</td>\n",
       "      <td>2438.19</td>\n",
       "      <td>58</td>\n",
       "      <td>776</td>\n",
       "      <td>LA</td>\n",
       "      <td>0.180040</td>\n",
       "      <td>0.425373</td>\n",
       "      <td>0.001132</td>\n",
       "      <td>0.210292</td>\n",
       "    </tr>\n",
       "    <tr>\n",
       "      <th>10933912</th>\n",
       "      <td>3</td>\n",
       "      <td>2</td>\n",
       "      <td>1500</td>\n",
       "      <td>0</td>\n",
       "      <td>0</td>\n",
       "      <td>23865</td>\n",
       "      <td>1958</td>\n",
       "      <td>962215</td>\n",
       "      <td>11760.13</td>\n",
       "      <td>59</td>\n",
       "      <td>820</td>\n",
       "      <td>LA</td>\n",
       "      <td>0.161659</td>\n",
       "      <td>0.432836</td>\n",
       "      <td>0.003390</td>\n",
       "      <td>0.215723</td>\n",
       "    </tr>\n",
       "  </tbody>\n",
       "</table>\n",
       "<p>28244 rows × 16 columns</p>\n",
       "</div>"
      ],
      "text/plain": [
       "          bedrooms  bathrooms  square_feet  garage  pool  lot_size  \\\n",
       "parcel                                                               \n",
       "12156933         3          2         1204       0     0      9543   \n",
       "11128434         4          3         2552       0     0     10526   \n",
       "11183730         4          3         2434       0     0      6640   \n",
       "14414960         4          3         3283       2     0      9380   \n",
       "11515617         3          3         2502       0     0     12238   \n",
       "...            ...        ...          ...     ...   ...       ...   \n",
       "12021626         2          2         2408       0     1      7215   \n",
       "11123105         4          3         1927       0     1      6451   \n",
       "13928477         3          2         2360       2     1      7700   \n",
       "12867887         4          2         1656       0     0      8129   \n",
       "10933912         3          2         1500       0     0     23865   \n",
       "\n",
       "          year_built  tax_value  tax_amount  age  living_space  county  \\\n",
       "parcel                                                                   \n",
       "12156933        1947    1036123    12474.35   70           524      LA   \n",
       "11128434        1969     686553     8503.15   48          1632      LA   \n",
       "11183730        1990     288721     4406.80   27          1514      LA   \n",
       "14414960        1988     699808     7029.44   29          2363  Orange   \n",
       "11515617        1977     211710     3067.45   40          1782      LA   \n",
       "...              ...        ...         ...  ...           ...     ...   \n",
       "12021626        1942     153575     2118.66   75          1928      LA   \n",
       "11123105        1997     349808     5389.05   20          1007      LA   \n",
       "13928477        1960     359023     4514.40   57          1680  Orange   \n",
       "12867887        1959     171483     2438.19   58           776      LA   \n",
       "10933912        1958     962215    11760.13   59           820      LA   \n",
       "\n",
       "          square_feet_scaled  age_scaled  lot_size_scaled  living_space_scaled  \n",
       "parcel                                                                          \n",
       "12156933            0.126782    0.514925         0.001335             0.179193  \n",
       "11128434            0.285613    0.350746         0.001476             0.315932  \n",
       "11183730            0.271710    0.194030         0.000919             0.301370  \n",
       "14414960            0.371745    0.208955         0.001312             0.406146  \n",
       "11515617            0.279722    0.291045         0.001722             0.334444  \n",
       "...                      ...         ...              ...                  ...  \n",
       "12021626            0.268646    0.552239         0.001001             0.352462  \n",
       "11123105            0.211971    0.141791         0.000892             0.238800  \n",
       "13928477            0.262990    0.417910         0.001071             0.321856  \n",
       "12867887            0.180040    0.425373         0.001132             0.210292  \n",
       "10933912            0.161659    0.432836         0.003390             0.215723  \n",
       "\n",
       "[28244 rows x 16 columns]"
      ]
     },
     "execution_count": 7,
     "metadata": {},
     "output_type": "execute_result"
    }
   ],
   "source": [
    "# Try to predict based on sqft, age, lot_size and living_space as continous variables\n",
    "train_scaled, validate_scaled, test_scaled = scale_data(train, validate, test, ['square_feet','age','lot_size','living_space'])\n",
    "train_scaled"
   ]
  },
  {
   "cell_type": "code",
   "execution_count": 8,
   "id": "63504396",
   "metadata": {
    "ExecuteTime": {
     "end_time": "2022-07-22T20:20:03.050221Z",
     "start_time": "2022-07-22T20:20:03.045085Z"
    }
   },
   "outputs": [],
   "source": [
    "X_train_exp = train[['bedrooms', 'bathrooms', 'square_feet', 'garage', 'pool', 'lot_size',\n",
    "       'year_built','age', 'living_space']] ## Unscaled, dummy vars with original categorical vars\n",
    "X_train = train_scaled[['square_feet_scaled','age_scaled','lot_size_scaled','living_space_scaled']]\n",
    "y_train = train['tax_value'] ## Unscaled, target variable only\n",
    "\n",
    "X_validate = validate_scaled[['square_feet_scaled','age_scaled','lot_size_scaled','living_space_scaled']]\n",
    "y_validate= validate['tax_value'] ## Unscaled, target variable only\n",
    "\n",
    "X_test= test_scaled[['square_feet_scaled','age_scaled','lot_size_scaled','living_space_scaled']]\n",
    "y_test = test['tax_value'] ## Unscaled, target variable only"
   ]
  },
  {
   "cell_type": "code",
   "execution_count": 9,
   "id": "fd29a35c",
   "metadata": {
    "ExecuteTime": {
     "end_time": "2022-07-22T20:20:53.451920Z",
     "start_time": "2022-07-22T20:20:53.186028Z"
    }
   },
   "outputs": [
    {
     "data": {
      "image/png": "[encoded data removed]",
      "text/plain": [
       "<Figure size 432x288 with 1 Axes>"
      ]
     },
     "metadata": {
      "needs_background": "light"
     },
     "output_type": "display_data"
    }
   ],
   "source": [
    "plt.hist(y_train)\n",
    "plt.xlabel('tax_value')\n",
    "plt.ylabel('Number of Homes')\n",
    "plt.show()"
   ]
  },
  {
   "cell_type": "code",
   "execution_count": 15,
   "id": "fe82fbcd",
   "metadata": {
    "ExecuteTime": {
     "end_time": "2022-07-22T20:27:44.186436Z",
     "start_time": "2022-07-22T20:27:44.149134Z"
    }
   },
   "outputs": [
    {
     "name": "stdout",
     "output_type": "stream",
     "text": [
      "RMSE using Mean Train Sample: 352484.46\n",
      "RMSE using Mean Validate Sample: 357952.04\n",
      "RMSE using Median Train Sample: 361369.74\n",
      "RMSE using Median Validate Sample: 367103.56\n"
     ]
    }
   ],
   "source": [
    "# Make these dataframes to allow for baselines to be appended\n",
    "y_train = pd.DataFrame(y_train)\n",
    "y_validate = pd.DataFrame(y_validate)\n",
    "\n",
    "# Predict mean\n",
    "tax_value_pred_mean_train = y_train.tax_value.mean()\n",
    "tax_value_pred_mean_validate = y_validate.tax_value.mean()\n",
    "y_train['tax_value_pred_mean_train'] = tax_value_pred_mean_train\n",
    "y_validate['tax_value_pred_mean_validate'] = tax_value_pred_mean_validate\n",
    "\n",
    "# Predict median\n",
    "tax_value_pred_median_train = y_train.tax_value.median()\n",
    "tax_value_pred_median_validate = y_validate.tax_value.median()\n",
    "y_train['tax_value_pred_median_train'] = tax_value_pred_median_train\n",
    "y_validate['tax_value_pred_median_validate'] = tax_value_pred_median_validate\n",
    "\n",
    "# RMSE of tax_value pred mean\n",
    "\n",
    "rmse_train = mean_squared_error(y_train.tax_value, y_train.tax_value_pred_mean_train, squared = False)\n",
    "rmse_validate = mean_squared_error(y_validate.tax_value, y_validate.tax_value_pred_mean_validate, squared = False)\n",
    "\n",
    "print(f\"RMSE using Mean Train Sample: {round(rmse_train,2)}\")\n",
    "print(f\"RMSE using Mean Validate Sample: {round(rmse_validate,2)}\")\n",
    "\n",
    "# RMSE of tax_value pred median\n",
    "\n",
    "rmse_train = mean_squared_error(y_train.tax_value, y_train.tax_value_pred_median_train, squared = False)\n",
    "rmse_validate = mean_squared_error(y_validate.tax_value, y_validate.tax_value_pred_median_validate, squared = False)\n",
    "\n",
    "print(f\"RMSE using Median Train Sample: {round(rmse_train,2)}\")\n",
    "print(f\"RMSE using Median Validate Sample: {round(rmse_validate,2)}\")"
   ]
  },
  {
   "cell_type": "code",
   "execution_count": 16,
   "id": "026cb61c",
   "metadata": {
    "ExecuteTime": {
     "end_time": "2022-07-22T20:30:22.171118Z",
     "start_time": "2022-07-22T20:30:21.716402Z"
    }
   },
   "outputs": [
    {
     "data": {
      "image/png": "[encoded data removed]",
      "text/plain": [
       "<Figure size 432x288 with 1 Axes>"
      ]
     },
     "metadata": {
      "needs_background": "light"
     },
     "output_type": "display_data"
    }
   ],
   "source": [
    "# plot to visualize actual vs predicted. \n",
    "plt.hist(y_train.tax_value, color='blue', alpha=.5, label=\"Actual tax value\")\n",
    "plt.hist(y_train.tax_value_pred_mean_train, bins=1, color='red', alpha=.5, rwidth=100, label=\"Predicted tax_value\")\n",
    "plt.hist(y_train.tax_value_pred_median_train, bins=1, color='orange', alpha=.5, rwidth=100, label=\"Predicted tax_value - Median\")\n",
    "plt.xlabel(\"tax_value\")\n",
    "plt.ylabel(\"Number of Houses\")\n",
    "plt.legend()\n",
    "plt.show()"
   ]
  },
  {
   "cell_type": "markdown",
   "id": "ad4777dc",
   "metadata": {},
   "source": [
    "#### Linear Regression (OLS):\n",
    "\n",
    "- Fit model using X_train_scaled and labels from y_train\n",
    "- Predict tax_value scores using training sample using lm model\n",
    "- Evaluate using RMSE\n",
    "- Repeat predictions and evaluations for validation\n",
    "- Compare RMSE train vs validation to check for overfitting."
   ]
  },
  {
   "cell_type": "code",
   "execution_count": 18,
   "id": "8e0dfca1",
   "metadata": {
    "ExecuteTime": {
     "end_time": "2022-07-22T20:32:38.485822Z",
     "start_time": "2022-07-22T20:32:38.384090Z"
    }
   },
   "outputs": [
    {
     "name": "stdout",
     "output_type": "stream",
     "text": [
      "RMSE for OLS using LinearRegression\n",
      "Training/In-Sample:  286640.3755895617 \n",
      "Validation/Out-of-Sample:  287347.81489021715\n"
     ]
    }
   ],
   "source": [
    "# create the model object\n",
    "lm = LinearRegression(normalize=True)\n",
    "\n",
    "# fit the model to our training data. We must specify the column in y_train, \n",
    "# since we have converted it to a dataframe from a series! \n",
    "lm.fit(X_train, y_train.tax_value)\n",
    "\n",
    "# predict train\n",
    "y_train['tax_value_pred_lm'] = lm.predict(X_train)\n",
    "\n",
    "# evaluate: rmse\n",
    "rmse_train = mean_squared_error(y_train.tax_value, y_train.tax_value_pred_lm, squared=False)\n",
    "\n",
    "# predict validate\n",
    "y_validate['tax_value_pred_lm'] = lm.predict(X_validate)\n",
    "\n",
    "# evaluate: rmse\n",
    "rmse_validate = mean_squared_error(y_validate.tax_value, y_validate.tax_value_pred_lm, squared=False)\n",
    "\n",
    "print(\"RMSE for OLS using LinearRegression\\nTraining/In-Sample: \", rmse_train, \n",
    "      \"\\nValidation/Out-of-Sample: \", rmse_validate)"
   ]
  },
  {
   "cell_type": "code",
   "execution_count": 19,
   "id": "a197022c",
   "metadata": {
    "ExecuteTime": {
     "end_time": "2022-07-22T20:33:36.321443Z",
     "start_time": "2022-07-22T20:33:36.163142Z"
    }
   },
   "outputs": [
    {
     "name": "stdout",
     "output_type": "stream",
     "text": [
      "RMSE for OLS using Lasso+Lars\n",
      "Training/In-Sample:  286640.6193470093 \n",
      "Validation/Out-of-Sample:  287355.7692965073\n"
     ]
    }
   ],
   "source": [
    "# create the model object\n",
    "lars = LassoLars(alpha=1.0)\n",
    "\n",
    "# fit the model to our training data. We must specify the column in y_train, \n",
    "# since we have converted it to a dataframe from a series! \n",
    "lars.fit(X_train, y_train.tax_value)\n",
    "\n",
    "# predict train\n",
    "y_train['tax_value_pred_lars'] = lars.predict(X_train)\n",
    "\n",
    "# evaluate: rmse\n",
    "rmse_train = mean_squared_error(y_train.tax_value, y_train.tax_value_pred_lars, squared=False)\n",
    "\n",
    "# predict validate\n",
    "y_validate['tax_value_pred_lars'] = lars.predict(X_validate)\n",
    "\n",
    "# evaluate: rmse\n",
    "rmse_validate = mean_squared_error(y_validate.tax_value, y_validate.tax_value_pred_lars, squared=False)\n",
    "\n",
    "print(\"RMSE for OLS using Lasso+Lars\\nTraining/In-Sample: \", rmse_train, \n",
    "      \"\\nValidation/Out-of-Sample: \", rmse_validate)"
   ]
  },
  {
   "cell_type": "code",
   "execution_count": 20,
   "id": "d6a6be7e",
   "metadata": {
    "ExecuteTime": {
     "end_time": "2022-07-22T20:34:48.796022Z",
     "start_time": "2022-07-22T20:34:48.591071Z"
    }
   },
   "outputs": [
    {
     "name": "stdout",
     "output_type": "stream",
     "text": [
      "RMSE for OLS using Tweedie, power=1 alpha=0\n",
      "Training/In-Sample:  299949.7669131965 \n",
      "Validation/Out-of-Sample:  295501.90201605257\n"
     ]
    }
   ],
   "source": [
    "# create the model object\n",
    "glm = TweedieRegressor(power=1,alpha=0)\n",
    "\n",
    "# fit the model to our training data. We must specify the column in y_train, \n",
    "# since we have converted it to a dataframe from a series! \n",
    "glm.fit(X_train, y_train.tax_value)\n",
    "\n",
    "# predict train\n",
    "y_train['tax_value_pred_glm'] = glm.predict(X_train)\n",
    "\n",
    "# evaluate: rmse\n",
    "rmse_train = mean_squared_error(y_train.tax_value, y_train.tax_value_pred_glm, squared=False)\n",
    "\n",
    "# predict validate\n",
    "y_validate['tax_value_pred_glm'] = glm.predict(X_validate)\n",
    "\n",
    "# evaluate: rmse\n",
    "rmse_validate = mean_squared_error(y_validate.tax_value, y_validate.tax_value_pred_glm, squared=False)\n",
    "\n",
    "print(\"RMSE for OLS using Tweedie, power=1 alpha=0\\nTraining/In-Sample: \", rmse_train, \n",
    "      \"\\nValidation/Out-of-Sample: \", rmse_validate)"
   ]
  },
  {
   "cell_type": "code",
   "execution_count": 21,
   "id": "63f88b1b",
   "metadata": {
    "ExecuteTime": {
     "end_time": "2022-07-22T20:35:03.540887Z",
     "start_time": "2022-07-22T20:35:03.504199Z"
    }
   },
   "outputs": [],
   "source": [
    "# make the polynomial features to get a new set of features\n",
    "pf = PolynomialFeatures(degree=2)\n",
    "\n",
    "# fit and transform X_train_scaled\n",
    "X_train_degree2 = pf.fit_transform(X_train)\n",
    "\n",
    "# transform X_validate_scaled & X_test_scaled\n",
    "X_validate_degree2 = pf.transform(X_validate)\n",
    "X_test_degree2 = pf.transform(X_test)"
   ]
  },
  {
   "cell_type": "code",
   "execution_count": 22,
   "id": "3bf287de",
   "metadata": {
    "ExecuteTime": {
     "end_time": "2022-07-22T20:35:51.851443Z",
     "start_time": "2022-07-22T20:35:51.708954Z"
    }
   },
   "outputs": [
    {
     "name": "stdout",
     "output_type": "stream",
     "text": [
      "RMSE for Polynomial Model, degrees=2\n",
      "Training/In-Sample:  285010.79848812235 \n",
      "Validation/Out-of-Sample:  286890.44317933824\n"
     ]
    }
   ],
   "source": [
    "# create the model object\n",
    "lm2 = LinearRegression(normalize=True)\n",
    "\n",
    "# fit the model to our training data. We must specify the column in y_train, \n",
    "# since we have converted it to a dataframe from a series! \n",
    "lm2.fit(X_train_degree2, y_train.tax_value)\n",
    "\n",
    "# predict train\n",
    "y_train['tax_value_pred_lm2'] = lm2.predict(X_train_degree2)\n",
    "\n",
    "# evaluate: rmse\n",
    "rmse_train = mean_squared_error(y_train.tax_value, y_train.tax_value_pred_lm2)**(1/2)\n",
    "\n",
    "# predict validate\n",
    "y_validate['tax_value_pred_lm2'] = lm2.predict(X_validate_degree2)\n",
    "\n",
    "# evaluate: rmse\n",
    "rmse_validate = mean_squared_error(y_validate.tax_value, y_validate.tax_value_pred_lm2)**(1/2)\n",
    "\n",
    "print(\"RMSE for Polynomial Model, degrees=2\\nTraining/In-Sample: \", rmse_train, \n",
    "      \"\\nValidation/Out-of-Sample: \", rmse_validate)"
   ]
  },
  {
   "cell_type": "code",
   "execution_count": null,
   "id": "353787ba",
   "metadata": {},
   "outputs": [],
   "source": [
    "y_validate.tax_value_pred_mean"
   ]
  },
  {
   "cell_type": "code",
   "execution_count": 24,
   "id": "32081067",
   "metadata": {
    "ExecuteTime": {
     "end_time": "2022-07-22T20:39:18.572558Z",
     "start_time": "2022-07-22T20:39:17.753408Z"
    }
   },
   "outputs": [
    {
     "data": {
      "image/png": "[encoded data removed]",
      "text/plain": [
       "<Figure size 1152x576 with 1 Axes>"
      ]
     },
     "metadata": {
      "needs_background": "light"
     },
     "output_type": "display_data"
    }
   ],
   "source": [
    "# y_validate.head()\n",
    "plt.figure(figsize=(16,8))\n",
    "plt.plot(y_validate.tax_value, y_validate.tax_value_pred_mean_validate, alpha=.5, color=\"gray\", label='_nolegend_')\n",
    "plt.annotate(\"Baseline: Predict Using Mean\", (16, 9.5))\n",
    "plt.plot(y_validate.tax_value, y_validate.tax_value, alpha=.5, color=\"blue\", label='_nolegend_')\n",
    "plt.annotate(\"The Ideal Line: Predicted = Actual\", (.5, 3.5), rotation=15.5)\n",
    "\n",
    "plt.scatter(y_validate.tax_value, y_validate.tax_value_pred_lm, \n",
    "            alpha=.5, color=\"red\", s=100, label=\"Model: LinearRegression\")\n",
    "plt.scatter(y_validate.tax_value, y_validate.tax_value_pred_glm, \n",
    "            alpha=.5, color=\"yellow\", s=100, label=\"Model: TweedieRegressor\")\n",
    "plt.scatter(y_validate.tax_value, y_validate.tax_value_pred_lm2, \n",
    "            alpha=.5, color=\"green\", s=100, label=\"Model 2nd degree Polynomial\")\n",
    "plt.legend()\n",
    "plt.xlabel(\"Actual tax_value\")\n",
    "plt.ylabel(\"Predicted tax_value\")\n",
    "plt.title(\"Where are predictions more extreme? More modest?\")\n",
    "# plt.annotate(\"The polynomial model appears to overreact to noise\", (2.0, -10))\n",
    "# plt.annotate(\"The OLS model (LinearRegression)\\n appears to be most consistent\", (15.5, 3))\n",
    "plt.show()"
   ]
  },
  {
   "cell_type": "code",
   "execution_count": null,
   "id": "66ca7938",
   "metadata": {},
   "outputs": [],
   "source": []
  }
 ],
 "metadata": {
  "kernelspec": {
   "display_name": "Python 3 (ipykernel)",
   "language": "python",
   "name": "python3"
  },
  "language_info": {
   "codemirror_mode": {
    "name": "ipython",
    "version": 3
   },
   "file_extension": ".py",
   "mimetype": "text/x-python",
   "name": "python",
   "nbconvert_exporter": "python",
   "pygments_lexer": "ipython3",
   "version": "3.9.13"
  }
 },
 "nbformat": 4,
 "nbformat_minor": 5
}
